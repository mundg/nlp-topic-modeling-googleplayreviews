{
 "cells": [
  {
   "cell_type": "markdown",
   "metadata": {},
   "source": [
    "## Exploratory Data Analysis"
   ]
  },
  {
   "cell_type": "code",
   "execution_count": 4,
   "metadata": {},
   "outputs": [],
   "source": [
    "import pandas as pd \n",
    "import numpy as np\n",
    "import matplotlib.pyplot as plt\n",
    "import seaborn as sns"
   ]
  },
  {
   "cell_type": "code",
   "execution_count": 5,
   "metadata": {},
   "outputs": [],
   "source": [
    "df_reviews = pd.read_parquet('../data/raw/reviews_2024-11-25_22-13_PH.parquet', engine = 'pyarrow')"
   ]
  },
  {
   "cell_type": "markdown",
   "metadata": {},
   "source": [
    "The reviews dataset"
   ]
  },
  {
   "cell_type": "code",
   "execution_count": 6,
   "metadata": {},
   "outputs": [
    {
     "data": {
      "text/html": [
       "<div>\n",
       "<style scoped>\n",
       "    .dataframe tbody tr th:only-of-type {\n",
       "        vertical-align: middle;\n",
       "    }\n",
       "\n",
       "    .dataframe tbody tr th {\n",
       "        vertical-align: top;\n",
       "    }\n",
       "\n",
       "    .dataframe thead th {\n",
       "        text-align: right;\n",
       "    }\n",
       "</style>\n",
       "<table border=\"1\" class=\"dataframe\">\n",
       "  <thead>\n",
       "    <tr style=\"text-align: right;\">\n",
       "      <th></th>\n",
       "      <th>reviewId</th>\n",
       "      <th>userName</th>\n",
       "      <th>userImage</th>\n",
       "      <th>content</th>\n",
       "      <th>score</th>\n",
       "      <th>thumbsUpCount</th>\n",
       "      <th>reviewCreatedVersion</th>\n",
       "      <th>at</th>\n",
       "      <th>replyContent</th>\n",
       "      <th>repliedAt</th>\n",
       "      <th>appVersion</th>\n",
       "      <th>appId</th>\n",
       "    </tr>\n",
       "  </thead>\n",
       "  <tbody>\n",
       "    <tr>\n",
       "      <th>0</th>\n",
       "      <td>2239ead0-76d7-4c95-ba2e-3b4c8d30afbb</td>\n",
       "      <td>Boy Z</td>\n",
       "      <td>https://play-lh.googleusercontent.com/a/ACg8oc...</td>\n",
       "      <td>AaB bCc</td>\n",
       "      <td>5</td>\n",
       "      <td>0</td>\n",
       "      <td>None</td>\n",
       "      <td>2024-11-24 11:29:25</td>\n",
       "      <td>None</td>\n",
       "      <td>NaT</td>\n",
       "      <td>None</td>\n",
       "      <td>com.rvappstudios.abc_kids_toddler_tracing_phonics</td>\n",
       "    </tr>\n",
       "    <tr>\n",
       "      <th>1</th>\n",
       "      <td>c0f25990-fffa-4302-8b80-6bd598b3b682</td>\n",
       "      <td>Jill</td>\n",
       "      <td>https://play-lh.googleusercontent.com/a/ACg8oc...</td>\n",
       "      <td>i love it and its good for my daughter she rea...</td>\n",
       "      <td>5</td>\n",
       "      <td>0</td>\n",
       "      <td>2.0.6</td>\n",
       "      <td>2024-11-24 10:00:04</td>\n",
       "      <td>None</td>\n",
       "      <td>NaT</td>\n",
       "      <td>2.0.6</td>\n",
       "      <td>com.rvappstudios.abc_kids_toddler_tracing_phonics</td>\n",
       "    </tr>\n",
       "    <tr>\n",
       "      <th>2</th>\n",
       "      <td>9b502d4b-4595-404b-a845-48c946f4c574</td>\n",
       "      <td>Hashir Ashfaq</td>\n",
       "      <td>https://play-lh.googleusercontent.com/a/ACg8oc...</td>\n",
       "      <td>amp</td>\n",
       "      <td>5</td>\n",
       "      <td>0</td>\n",
       "      <td>None</td>\n",
       "      <td>2024-11-24 03:33:30</td>\n",
       "      <td>None</td>\n",
       "      <td>NaT</td>\n",
       "      <td>None</td>\n",
       "      <td>com.rvappstudios.abc_kids_toddler_tracing_phonics</td>\n",
       "    </tr>\n",
       "    <tr>\n",
       "      <th>3</th>\n",
       "      <td>cc36d108-07ef-4aa3-839f-dbe3b450bf74</td>\n",
       "      <td>KeanuSandra Mabry</td>\n",
       "      <td>https://play-lh.googleusercontent.com/a/ACg8oc...</td>\n",
       "      <td>I would be proud to do this I wished I would h...</td>\n",
       "      <td>5</td>\n",
       "      <td>0</td>\n",
       "      <td>2.0.6</td>\n",
       "      <td>2024-11-24 02:20:33</td>\n",
       "      <td>None</td>\n",
       "      <td>NaT</td>\n",
       "      <td>2.0.6</td>\n",
       "      <td>com.rvappstudios.abc_kids_toddler_tracing_phonics</td>\n",
       "    </tr>\n",
       "    <tr>\n",
       "      <th>4</th>\n",
       "      <td>6f509403-c2ee-479e-89f0-2d15697c0f5e</td>\n",
       "      <td>Zanele Gwamanda</td>\n",
       "      <td>https://play-lh.googleusercontent.com/a/ACg8oc...</td>\n",
       "      <td>free</td>\n",
       "      <td>3</td>\n",
       "      <td>0</td>\n",
       "      <td>2.0.6</td>\n",
       "      <td>2024-11-24 01:04:33</td>\n",
       "      <td>None</td>\n",
       "      <td>NaT</td>\n",
       "      <td>2.0.6</td>\n",
       "      <td>com.rvappstudios.abc_kids_toddler_tracing_phonics</td>\n",
       "    </tr>\n",
       "  </tbody>\n",
       "</table>\n",
       "</div>"
      ],
      "text/plain": [
       "                               reviewId           userName  \\\n",
       "0  2239ead0-76d7-4c95-ba2e-3b4c8d30afbb              Boy Z   \n",
       "1  c0f25990-fffa-4302-8b80-6bd598b3b682               Jill   \n",
       "2  9b502d4b-4595-404b-a845-48c946f4c574      Hashir Ashfaq   \n",
       "3  cc36d108-07ef-4aa3-839f-dbe3b450bf74  KeanuSandra Mabry   \n",
       "4  6f509403-c2ee-479e-89f0-2d15697c0f5e    Zanele Gwamanda   \n",
       "\n",
       "                                           userImage  \\\n",
       "0  https://play-lh.googleusercontent.com/a/ACg8oc...   \n",
       "1  https://play-lh.googleusercontent.com/a/ACg8oc...   \n",
       "2  https://play-lh.googleusercontent.com/a/ACg8oc...   \n",
       "3  https://play-lh.googleusercontent.com/a/ACg8oc...   \n",
       "4  https://play-lh.googleusercontent.com/a/ACg8oc...   \n",
       "\n",
       "                                             content  score  thumbsUpCount  \\\n",
       "0                                            AaB bCc      5              0   \n",
       "1  i love it and its good for my daughter she rea...      5              0   \n",
       "2                                                amp      5              0   \n",
       "3  I would be proud to do this I wished I would h...      5              0   \n",
       "4                                               free      3              0   \n",
       "\n",
       "  reviewCreatedVersion                  at replyContent repliedAt appVersion  \\\n",
       "0                 None 2024-11-24 11:29:25         None       NaT       None   \n",
       "1                2.0.6 2024-11-24 10:00:04         None       NaT      2.0.6   \n",
       "2                 None 2024-11-24 03:33:30         None       NaT       None   \n",
       "3                2.0.6 2024-11-24 02:20:33         None       NaT      2.0.6   \n",
       "4                2.0.6 2024-11-24 01:04:33         None       NaT      2.0.6   \n",
       "\n",
       "                                               appId  \n",
       "0  com.rvappstudios.abc_kids_toddler_tracing_phonics  \n",
       "1  com.rvappstudios.abc_kids_toddler_tracing_phonics  \n",
       "2  com.rvappstudios.abc_kids_toddler_tracing_phonics  \n",
       "3  com.rvappstudios.abc_kids_toddler_tracing_phonics  \n",
       "4  com.rvappstudios.abc_kids_toddler_tracing_phonics  "
      ]
     },
     "execution_count": 6,
     "metadata": {},
     "output_type": "execute_result"
    }
   ],
   "source": [
    "df_reviews.head()"
   ]
  },
  {
   "cell_type": "markdown",
   "metadata": {},
   "source": [
    "Reviews' data types"
   ]
  },
  {
   "cell_type": "code",
   "execution_count": 7,
   "metadata": {},
   "outputs": [
    {
     "data": {
      "text/plain": [
       "reviewId                        object\n",
       "userName                        object\n",
       "userImage                       object\n",
       "content                         object\n",
       "score                            int64\n",
       "thumbsUpCount                    int64\n",
       "reviewCreatedVersion            object\n",
       "at                      datetime64[ns]\n",
       "replyContent                    object\n",
       "repliedAt               datetime64[ns]\n",
       "appVersion                      object\n",
       "appId                           object\n",
       "dtype: object"
      ]
     },
     "execution_count": 7,
     "metadata": {},
     "output_type": "execute_result"
    }
   ],
   "source": [
    "df_reviews.dtypes"
   ]
  },
  {
   "cell_type": "markdown",
   "metadata": {},
   "source": [
    "##### Missing Data (NAs)"
   ]
  },
  {
   "cell_type": "code",
   "execution_count": 8,
   "metadata": {},
   "outputs": [
    {
     "data": {
      "text/plain": [
       "reviewId                    0\n",
       "userName                    0\n",
       "userImage                   0\n",
       "content                    12\n",
       "score                       0\n",
       "thumbsUpCount               0\n",
       "reviewCreatedVersion    31298\n",
       "at                          0\n",
       "replyContent            87604\n",
       "repliedAt               87604\n",
       "appVersion              31298\n",
       "appId                       0\n",
       "dtype: int64"
      ]
     },
     "execution_count": 8,
     "metadata": {},
     "output_type": "execute_result"
    }
   ],
   "source": [
    "df_reviews.isna().sum()"
   ]
  },
  {
   "cell_type": "markdown",
   "metadata": {},
   "source": [
    "- There are ~87k nulls observed in replyContent and RepliedAt, which is the information for developer's reply. Hence, there are a lot of reviews that the app developer doesn't reply to.\n",
    "- There are 31k nulls observed in reviewCreatedVersion. \n",
    "- Only 12 nulls are observed in user reviews."
   ]
  },
  {
   "cell_type": "markdown",
   "metadata": {},
   "source": [
    "Duplicates"
   ]
  },
  {
   "cell_type": "code",
   "execution_count": 9,
   "metadata": {},
   "outputs": [
    {
     "data": {
      "text/plain": [
       "reviewId                120872\n",
       "userName                111204\n",
       "userImage               114979\n",
       "content                  94332\n",
       "score                        5\n",
       "thumbsUpCount              591\n",
       "reviewCreatedVersion      2076\n",
       "at                      120078\n",
       "replyContent             14918\n",
       "repliedAt                33026\n",
       "appVersion                2076\n",
       "appId                       94\n",
       "dtype: int64"
      ]
     },
     "execution_count": 9,
     "metadata": {},
     "output_type": "execute_result"
    }
   ],
   "source": [
    "df_reviews.nunique()"
   ]
  },
  {
   "cell_type": "code",
   "execution_count": 10,
   "metadata": {},
   "outputs": [
    {
     "data": {
      "text/plain": [
       "(120872, 12)"
      ]
     },
     "execution_count": 10,
     "metadata": {},
     "output_type": "execute_result"
    }
   ],
   "source": [
    "df_reviews.shape"
   ]
  },
  {
   "cell_type": "markdown",
   "metadata": {},
   "source": [
    "Since total rows and unique reviewId's matched, no duplicates exists."
   ]
  },
  {
   "cell_type": "markdown",
   "metadata": {},
   "source": [
    "### Categorical Variables\n",
    "---"
   ]
  },
  {
   "cell_type": "code",
   "execution_count": 11,
   "metadata": {},
   "outputs": [
    {
     "name": "stdout",
     "output_type": "stream",
     "text": [
      "reviewId\n",
      "userName\n",
      "userImage\n",
      "content\n",
      "reviewCreatedVersion\n",
      "replyContent\n",
      "appVersion\n",
      "appId\n"
     ]
    }
   ],
   "source": [
    "for x in df_reviews.columns:\n",
    "    if df_reviews[x].dtype == 'object':\n",
    "        print(x)"
   ]
  },
  {
   "cell_type": "markdown",
   "metadata": {},
   "source": [
    "#### userName"
   ]
  },
  {
   "cell_type": "code",
   "execution_count": 12,
   "metadata": {},
   "outputs": [
    {
     "data": {
      "text/plain": [
       "userName\n",
       "A Google user    3632\n",
       "David              24\n",
       "James              23\n",
       "Larry Witt         22\n",
       "Alex               19\n",
       "Chris              19\n",
       "Michael            19\n",
       "Brian              15\n",
       "Joseph             14\n",
       "Jason              14\n",
       "Mike               13\n",
       "Raj Kumar          13\n",
       "Michelle           12\n",
       "Andrew             12\n",
       "Susan              12\n",
       "No Name            12\n",
       "Anil Kumar         11\n",
       "Adam               11\n",
       "Vijay Kumar        11\n",
       "Ryan               11\n",
       "Name: count, dtype: int64"
      ]
     },
     "execution_count": 12,
     "metadata": {},
     "output_type": "execute_result"
    }
   ],
   "source": [
    "# There are multiple review's on some users.\n",
    "df_reviews['userName'].value_counts()[:20]"
   ]
  },
  {
   "cell_type": "code",
   "execution_count": 13,
   "metadata": {},
   "outputs": [
    {
     "data": {
      "text/html": [
       "<div>\n",
       "<style scoped>\n",
       "    .dataframe tbody tr th:only-of-type {\n",
       "        vertical-align: middle;\n",
       "    }\n",
       "\n",
       "    .dataframe tbody tr th {\n",
       "        vertical-align: top;\n",
       "    }\n",
       "\n",
       "    .dataframe thead th {\n",
       "        text-align: right;\n",
       "    }\n",
       "</style>\n",
       "<table border=\"1\" class=\"dataframe\">\n",
       "  <thead>\n",
       "    <tr style=\"text-align: right;\">\n",
       "      <th></th>\n",
       "      <th>reviewId</th>\n",
       "      <th>userName</th>\n",
       "      <th>userImage</th>\n",
       "      <th>content</th>\n",
       "      <th>score</th>\n",
       "      <th>thumbsUpCount</th>\n",
       "      <th>reviewCreatedVersion</th>\n",
       "      <th>at</th>\n",
       "      <th>replyContent</th>\n",
       "      <th>repliedAt</th>\n",
       "      <th>appVersion</th>\n",
       "      <th>appId</th>\n",
       "    </tr>\n",
       "  </thead>\n",
       "  <tbody>\n",
       "    <tr>\n",
       "      <th>171</th>\n",
       "      <td>6d085ce1-2bfb-4b77-83f3-488962b4b665</td>\n",
       "      <td>A Google user</td>\n",
       "      <td>https://play-lh.googleusercontent.com/EGemoI2N...</td>\n",
       "      <td>Nostalgia !!!!!</td>\n",
       "      <td>5</td>\n",
       "      <td>0</td>\n",
       "      <td>None</td>\n",
       "      <td>2024-09-22 19:29:23</td>\n",
       "      <td>None</td>\n",
       "      <td>NaT</td>\n",
       "      <td>None</td>\n",
       "      <td>com.rvappstudios.abc_kids_toddler_tracing_phonics</td>\n",
       "    </tr>\n",
       "    <tr>\n",
       "      <th>1552</th>\n",
       "      <td>1df84782-4748-48e4-9820-4ca254083f8f</td>\n",
       "      <td>A Google user</td>\n",
       "      <td>https://play-lh.googleusercontent.com/EGemoI2N...</td>\n",
       "      <td>Jalen little</td>\n",
       "      <td>5</td>\n",
       "      <td>0</td>\n",
       "      <td>5.3.5</td>\n",
       "      <td>2024-10-19 07:36:56</td>\n",
       "      <td>None</td>\n",
       "      <td>NaT</td>\n",
       "      <td>5.3.5</td>\n",
       "      <td>org.pbskids.gamesapp</td>\n",
       "    </tr>\n",
       "    <tr>\n",
       "      <th>1583</th>\n",
       "      <td>a0a592c3-c4f0-4eb4-97f9-113ef940c348</td>\n",
       "      <td>A Google user</td>\n",
       "      <td>https://play-lh.googleusercontent.com/EGemoI2N...</td>\n",
       "      <td>I love this game it has my kids are playing so...</td>\n",
       "      <td>4</td>\n",
       "      <td>1</td>\n",
       "      <td>5.3.5</td>\n",
       "      <td>2024-09-29 10:44:27</td>\n",
       "      <td>None</td>\n",
       "      <td>NaT</td>\n",
       "      <td>5.3.5</td>\n",
       "      <td>org.pbskids.gamesapp</td>\n",
       "    </tr>\n",
       "    <tr>\n",
       "      <th>2201</th>\n",
       "      <td>3efd173b-42dc-4473-8d9c-6f6b3e7b4bb4</td>\n",
       "      <td>A Google user</td>\n",
       "      <td>https://play-lh.googleusercontent.com/EGemoI2N...</td>\n",
       "      <td>jbyytyungum xemhtn . f 😧😧😂😂😂</td>\n",
       "      <td>5</td>\n",
       "      <td>0</td>\n",
       "      <td>4.2.8</td>\n",
       "      <td>2023-08-21 06:42:53</td>\n",
       "      <td>None</td>\n",
       "      <td>NaT</td>\n",
       "      <td>4.2.8</td>\n",
       "      <td>org.pbskids.gamesapp</td>\n",
       "    </tr>\n",
       "    <tr>\n",
       "      <th>3824</th>\n",
       "      <td>6f62e9ac-49d5-476c-a183-a67ecc989507</td>\n",
       "      <td>A Google user</td>\n",
       "      <td>https://play-lh.googleusercontent.com/EGemoI2N...</td>\n",
       "      <td>Very Good Game</td>\n",
       "      <td>5</td>\n",
       "      <td>0</td>\n",
       "      <td>1.6.1</td>\n",
       "      <td>2023-08-17 10:41:30</td>\n",
       "      <td>None</td>\n",
       "      <td>NaT</td>\n",
       "      <td>1.6.1</td>\n",
       "      <td>com.rvappstudios.math.kids.counting</td>\n",
       "    </tr>\n",
       "  </tbody>\n",
       "</table>\n",
       "</div>"
      ],
      "text/plain": [
       "                                  reviewId       userName  \\\n",
       "171   6d085ce1-2bfb-4b77-83f3-488962b4b665  A Google user   \n",
       "1552  1df84782-4748-48e4-9820-4ca254083f8f  A Google user   \n",
       "1583  a0a592c3-c4f0-4eb4-97f9-113ef940c348  A Google user   \n",
       "2201  3efd173b-42dc-4473-8d9c-6f6b3e7b4bb4  A Google user   \n",
       "3824  6f62e9ac-49d5-476c-a183-a67ecc989507  A Google user   \n",
       "\n",
       "                                              userImage  \\\n",
       "171   https://play-lh.googleusercontent.com/EGemoI2N...   \n",
       "1552  https://play-lh.googleusercontent.com/EGemoI2N...   \n",
       "1583  https://play-lh.googleusercontent.com/EGemoI2N...   \n",
       "2201  https://play-lh.googleusercontent.com/EGemoI2N...   \n",
       "3824  https://play-lh.googleusercontent.com/EGemoI2N...   \n",
       "\n",
       "                                                content  score  thumbsUpCount  \\\n",
       "171                                     Nostalgia !!!!!      5              0   \n",
       "1552                                       Jalen little      5              0   \n",
       "1583  I love this game it has my kids are playing so...      4              1   \n",
       "2201                       jbyytyungum xemhtn . f 😧😧😂😂😂      5              0   \n",
       "3824                                     Very Good Game      5              0   \n",
       "\n",
       "     reviewCreatedVersion                  at replyContent repliedAt  \\\n",
       "171                  None 2024-09-22 19:29:23         None       NaT   \n",
       "1552                5.3.5 2024-10-19 07:36:56         None       NaT   \n",
       "1583                5.3.5 2024-09-29 10:44:27         None       NaT   \n",
       "2201                4.2.8 2023-08-21 06:42:53         None       NaT   \n",
       "3824                1.6.1 2023-08-17 10:41:30         None       NaT   \n",
       "\n",
       "     appVersion                                              appId  \n",
       "171        None  com.rvappstudios.abc_kids_toddler_tracing_phonics  \n",
       "1552      5.3.5                               org.pbskids.gamesapp  \n",
       "1583      5.3.5                               org.pbskids.gamesapp  \n",
       "2201      4.2.8                               org.pbskids.gamesapp  \n",
       "3824      1.6.1                com.rvappstudios.math.kids.counting  "
      ]
     },
     "execution_count": 13,
     "metadata": {},
     "output_type": "execute_result"
    }
   ],
   "source": [
    "# userName: A Google user\n",
    "df_reviews[df_reviews['userName'] == 'A Google user'].head()"
   ]
  },
  {
   "cell_type": "markdown",
   "metadata": {},
   "source": [
    "#### userImage"
   ]
  },
  {
   "cell_type": "code",
   "execution_count": 14,
   "metadata": {},
   "outputs": [
    {
     "data": {
      "text/plain": [
       "appId\n",
       "com.intellijoy.android.reading.free                           1226\n",
       "com.letterschool.lite                                         1080\n",
       "com.abcya.android.games                                        380\n",
       "com.amayasoft.dinosaur.games.little.kids.toddlers              245\n",
       "com.rvappstudios.numbers123.toddler.counting.tracing           241\n",
       "                                                              ... \n",
       "com.kids.learn.reading.app                                       1\n",
       "com.zynga.starwars.hunters                                       1\n",
       "com.rvappstudios.baby.toddler.kids.games.learning.activity       1\n",
       "com.tencent.ig                                                   1\n",
       "com.rvappstudios.abc_kids_toddler_tracing_phonics                1\n",
       "Name: count, Length: 82, dtype: int64"
      ]
     },
     "execution_count": 14,
     "metadata": {},
     "output_type": "execute_result"
    }
   ],
   "source": [
    "df_reviews[df_reviews['userName'] == 'A Google user']['appId'].value_counts()"
   ]
  },
  {
   "cell_type": "markdown",
   "metadata": {},
   "source": [
    "It seems like its an API data issue since games like 'com.intellijoy.android.reading.free' and 'com.letterschool.lite' contains a lot of this specific username. The cause of the error may occur upon extracting the data via API."
   ]
  },
  {
   "cell_type": "code",
   "execution_count": 15,
   "metadata": {},
   "outputs": [
    {
     "data": {
      "text/plain": [
       "userName                userImage                                                                                                               \n",
       "A Google user           https://play-lh.googleusercontent.com/EGemoI2NTXmTsBVtJqk8jxF9rh8ApRWfsIMQSt2uE4OcpQqbFu7f7NbTK05lx80nuSijCz7sc3a277R67g    3632\n",
       "Jamie Boyd              https://play-lh.googleusercontent.com/a/ACg8ocLa6T4FE0UiClOwhBaU87OlLMKQCqnO5tVzQJ42YEBr3bOZkw=mo                              9\n",
       "VIVEK K MISHRA          https://play-lh.googleusercontent.com/a-/ALV-UjU6sihGpCGrvxPr07kuG1C_Razk4QA8vrvZy7N2lRroYsx5-Q4                               9\n",
       "Amjid Ali               https://play-lh.googleusercontent.com/a-/ALV-UjV6bBX-LwkEu-vIO06U7UQHHPuAG8qcDMOOFJEqTJVeMXmOg_o                               9\n",
       "Tony Lags               https://play-lh.googleusercontent.com/a-/ALV-UjXGYX_SpMy276I87wSv_ooGqPE6f11eMUA-sdAGlVkHe_DDIW2qeA                            9\n",
       "Leviwaifu               https://play-lh.googleusercontent.com/a-/ALV-UjUve0XnbsX-rrCtJ4vVmyqX_JEQrTR16LdVrnkWwprs_NlAkqlT                              8\n",
       "Wilma Adriano           https://play-lh.googleusercontent.com/a-/ALV-UjXpGlG9pS_vlgnYBnWYy2UzKBNRx3Af678kqYSg4OBdMET-dUM                               8\n",
       "mimi mimiz              https://play-lh.googleusercontent.com/a/ACg8ocIJfW2oBeZRAkKdRaCoe_T2fcGGlkZGqbULneaI_X77zzoaXg=mo                              7\n",
       "Tyra Ledeen             https://play-lh.googleusercontent.com/a/ACg8ocKrYAkoQ_YMyiwcHvE1gKF10W56-4quTOwQhXjSX2fftcqK=mo                                7\n",
       "Lisabeth Dixon          https://play-lh.googleusercontent.com/a/ACg8ocIm40dLGR-G11i4WOihk0QPG_EGFrpWV-9SZ9NXICrQIRhdrg=mo                              7\n",
       "Oscar N E Rodriguez Jr  https://play-lh.googleusercontent.com/a/ACg8ocKqIg5ctq9Z4JWo6dTWfQ7mQnmgQiEjmmGhBbiOP8xH9PrV8Q=mo                              7\n",
       "Monu Kumar              https://play-lh.googleusercontent.com/a-/ALV-UjWzGrbD6Eu_mF4EFExm-rWTrUHVxpalWvXGpjjBloTiJFkImPA                               7\n",
       "random human            https://play-lh.googleusercontent.com/a-/ALV-UjWqmY0FsRZ7UOHKRqDn-JEorRmSlG54Dvc76yrJaMDmNWzvuIOG                              6\n",
       "Patrick P Smyth         https://play-lh.googleusercontent.com/a-/ALV-UjUM_KfAwW7dcirYV_cABdV1lXP2_MRIRKIGeECogOk3qWUlouVv                              6\n",
       "Keitley Freeborn        https://play-lh.googleusercontent.com/a/ACg8ocIfibXi-XdXt4j-6rebci_NwsCgJhYpI-jka5oOvkITjsi-IA=mo                              6\n",
       "Jesus Radillo           https://play-lh.googleusercontent.com/a-/ALV-UjUBSCOR-W--re5k7zqlRCI_SK1KYueCv2V_l-QpjXAwZF4MFUFd                              6\n",
       "MuhammadAbid Khan       https://play-lh.googleusercontent.com/a-/ALV-UjXzAzbEh6lB2VcXV8YkVprp3VgF4c5FLqDYfpG9Q1grh-OWm85i                              5\n",
       "Larry Witt              https://play-lh.googleusercontent.com/a-/ALV-UjW62SANWMOL_UgaohGDm0VlgYgKuBzvGGkJAO0-wH06RRNrpKM                               5\n",
       "Brian Hodgkinson        https://play-lh.googleusercontent.com/a-/ALV-UjW7MEN5w_GItDNC6BiCNrfrg2P0f9ZpLkL0vwFa99vM3IIE1J7S                              5\n",
       "Rumau kombo             https://play-lh.googleusercontent.com/a/ACg8ocJtftY-sS4XQphXkXXxz_qIOOGQLINuy5ivwTM4OwVpVPB8CA=mo                              5\n",
       "Name: count, dtype: int64"
      ]
     },
     "execution_count": 15,
     "metadata": {},
     "output_type": "execute_result"
    }
   ],
   "source": [
    "df_reviews[['userName','userImage']].value_counts()[:20]"
   ]
  },
  {
   "cell_type": "markdown",
   "metadata": {},
   "source": [
    "Given the different values of userName & userImage, there might be possible cases that the userName is the same but different userImage,  \n",
    "Which may be:\n",
    "- A single User that changes his/her userImage one or more.\n",
    "- Different Users with same userName"
   ]
  },
  {
   "cell_type": "markdown",
   "metadata": {},
   "source": [
    "userName: David as an example."
   ]
  },
  {
   "cell_type": "code",
   "execution_count": 16,
   "metadata": {},
   "outputs": [
    {
     "data": {
      "text/plain": [
       "userName  userImage                                                                                          \n",
       "David     https://play-lh.googleusercontent.com/a-/ALV-UjXTaFP3zQA0FlkWyyMe44W3koqsXPK7a1XpbQRpcSxemCpbbWvk      2\n",
       "          https://play-lh.googleusercontent.com/a-/ALV-UjUz_DdULHDdw09NO7qWOhs52CEOZYaId_ffFZMFotQr1BFzyRIN      1\n",
       "          https://play-lh.googleusercontent.com/a/ACg8ocJp-irA_nvc4K1dWeYbAA8nP3SGRPQHmpnOA5lz1XIM0IZrhA=mo      1\n",
       "          https://play-lh.googleusercontent.com/a/ACg8ocLRk4444UDhel45VtEaeGKnp6TH4HiIl0dTY_Wnkjvykrgcnw=mo      1\n",
       "          https://play-lh.googleusercontent.com/a/ACg8ocLCcnqQz2MMSo077YHH1ZBAwNGUqVstUWA9q1OveUBUt0zzkg=mo      1\n",
       "          https://play-lh.googleusercontent.com/a/ACg8ocLB1fE8CBJtQfgmhYLIg8cJjavoobUQT1M37xHY_iS7G6bLwA=mo      1\n",
       "          https://play-lh.googleusercontent.com/a/ACg8ocL-4A7eUMpYgiX5KUlSKegBqWC1BrA1LycMVBqrEdlDKInRUg=mo      1\n",
       "          https://play-lh.googleusercontent.com/a/ACg8ocKygdfTG6JHuBV5_rdu4_1NIHz3drGpG-Ft7r8ibQoPs_guPPA=mo     1\n",
       "          https://play-lh.googleusercontent.com/a/ACg8ocKezR_pIAwll7vfoWmCIZlIoHdc4Fb0IdZjzKF1edAnnaJj_g=mo      1\n",
       "          https://play-lh.googleusercontent.com/a/ACg8ocKCczOW9w0zOkuVBVyKdD7tNMfhpVYuCBWIlFE-Ie_w9zKpPQ=mo      1\n",
       "          https://play-lh.googleusercontent.com/a/ACg8ocK-bdqNZ10D-vNr-UzDOYBTeCg6kYqMKcjledyUJGTBsTyTDA=mo      1\n",
       "          https://play-lh.googleusercontent.com/a/ACg8ocJsmHX_eGxLiIumWVSwDh80PFJkLti6nkQpU-XuNsCjMOsTpg=mo      1\n",
       "          https://play-lh.googleusercontent.com/a/ACg8ocJnPjjwjGqjzfCTjq3DNRXqSzaG2Ht9j1igdlWmPSw7QvGFgw=mo      1\n",
       "          https://play-lh.googleusercontent.com/a-/ALV-UjWoAdJftJf63DI_R7kvSP57yQVNw-aBDHZACiTo6rkTFprP7EhzVA    1\n",
       "          https://play-lh.googleusercontent.com/a/ACg8ocJf1zHRbSlOMVAHksMdCXZahhZd6_kkL6ONHth3TCbceHbHKg=mo      1\n",
       "          https://play-lh.googleusercontent.com/a/ACg8ocJRjsi3rvN6t5yXKsINhkhE4srNl-1J5f1ZNeYog9DIItq02w=mo      1\n",
       "          https://play-lh.googleusercontent.com/a/ACg8ocIkQw6hXPdyANkYtBOvuI6vo7F3zXW-C5rDdcW4NBwzD4MNlg=mo      1\n",
       "          https://play-lh.googleusercontent.com/a/ACg8ocIcDLvR49f40Nvb5glgBI-cklVu491iTPcfyg25Yicwl8TXBA=mo      1\n",
       "          https://play-lh.googleusercontent.com/a/ACg8ocIOx2Qp87jnDe6x4AlptYqVIXu4rA4C0219G8UtEjmqM3_CwQ=mo      1\n",
       "          https://play-lh.googleusercontent.com/a/ACg8ocILEmMLI6ES2e3LOxFqXa38iHkvPogZ8A04eBJtIBsVLmP00g=mo      1\n",
       "          https://play-lh.googleusercontent.com/a/ACg8ocI6hfT107Nqjzfua3BjDsAs14wUOV90hXLR2i9KPKGgejq9IA=mo      1\n",
       "          https://play-lh.googleusercontent.com/a-/ALV-UjWuC9sFY4LueYXcnLzDeRjv9QtLTo0Tr9KtKU4d_9rBN43zyi4       1\n",
       "          https://play-lh.googleusercontent.com/a/ACg8ocLsRSR8gyrYd74Ku1vr__jd6VfWWsXNeh9zzdHCdty3YOEIzw=mo      1\n",
       "Name: count, dtype: int64"
      ]
     },
     "execution_count": 16,
     "metadata": {},
     "output_type": "execute_result"
    }
   ],
   "source": [
    "df_reviews[['userName','userImage']][df_reviews['userName'] == 'David'].value_counts()"
   ]
  },
  {
   "cell_type": "code",
   "execution_count": 17,
   "metadata": {},
   "outputs": [
    {
     "data": {
      "text/html": [
       "<div>\n",
       "<style scoped>\n",
       "    .dataframe tbody tr th:only-of-type {\n",
       "        vertical-align: middle;\n",
       "    }\n",
       "\n",
       "    .dataframe tbody tr th {\n",
       "        vertical-align: top;\n",
       "    }\n",
       "\n",
       "    .dataframe thead th {\n",
       "        text-align: right;\n",
       "    }\n",
       "</style>\n",
       "<table border=\"1\" class=\"dataframe\">\n",
       "  <thead>\n",
       "    <tr style=\"text-align: right;\">\n",
       "      <th></th>\n",
       "      <th>userName</th>\n",
       "      <th>userImage</th>\n",
       "      <th>at</th>\n",
       "      <th>content</th>\n",
       "      <th>appId</th>\n",
       "    </tr>\n",
       "  </thead>\n",
       "  <tbody>\n",
       "    <tr>\n",
       "      <th>34769</th>\n",
       "      <td>David</td>\n",
       "      <td>https://play-lh.googleusercontent.com/a-/ALV-U...</td>\n",
       "      <td>2021-07-07 18:17:06</td>\n",
       "      <td>Free app, kid likes to play on tablet. I hope ...</td>\n",
       "      <td>com.mrswordsmith.WordTag</td>\n",
       "    </tr>\n",
       "    <tr>\n",
       "      <th>28058</th>\n",
       "      <td>David</td>\n",
       "      <td>https://play-lh.googleusercontent.com/a/ACg8oc...</td>\n",
       "      <td>2022-02-04 02:50:23</td>\n",
       "      <td>Worked fine the other day, but now loads 50% a...</td>\n",
       "      <td>com.peppapig.worldofpeppapig_g</td>\n",
       "    </tr>\n",
       "    <tr>\n",
       "      <th>62727</th>\n",
       "      <td>David</td>\n",
       "      <td>https://play-lh.googleusercontent.com/a/ACg8oc...</td>\n",
       "      <td>2023-09-18 03:16:37</td>\n",
       "      <td>Pretty decent</td>\n",
       "      <td>com.gameinsight.gplay.mmanor</td>\n",
       "    </tr>\n",
       "    <tr>\n",
       "      <th>56912</th>\n",
       "      <td>David</td>\n",
       "      <td>https://play-lh.googleusercontent.com/a/ACg8oc...</td>\n",
       "      <td>2023-10-21 13:57:08</td>\n",
       "      <td>great adventure game</td>\n",
       "      <td>com.gamegos.adventure.bay.paradise.farm</td>\n",
       "    </tr>\n",
       "    <tr>\n",
       "      <th>92846</th>\n",
       "      <td>David</td>\n",
       "      <td>https://play-lh.googleusercontent.com/a-/ALV-U...</td>\n",
       "      <td>2024-08-02 06:19:46</td>\n",
       "      <td>Not for me</td>\n",
       "      <td>com.nintendo.zara</td>\n",
       "    </tr>\n",
       "    <tr>\n",
       "      <th>88882</th>\n",
       "      <td>David</td>\n",
       "      <td>https://play-lh.googleusercontent.com/a-/ALV-U...</td>\n",
       "      <td>2024-08-02 06:20:09</td>\n",
       "      <td>not for me</td>\n",
       "      <td>com.nintendo.zaka</td>\n",
       "    </tr>\n",
       "    <tr>\n",
       "      <th>53699</th>\n",
       "      <td>David</td>\n",
       "      <td>https://play-lh.googleusercontent.com/a/ACg8oc...</td>\n",
       "      <td>2024-08-03 16:26:21</td>\n",
       "      <td>your game is good but o. a phone there are bit...</td>\n",
       "      <td>com.xgamesgroup.puzzleisland</td>\n",
       "    </tr>\n",
       "    <tr>\n",
       "      <th>86173</th>\n",
       "      <td>David</td>\n",
       "      <td>https://play-lh.googleusercontent.com/a/ACg8oc...</td>\n",
       "      <td>2024-08-06 12:04:31</td>\n",
       "      <td>I'm hooked!</td>\n",
       "      <td>com.starform.metalstorm</td>\n",
       "    </tr>\n",
       "    <tr>\n",
       "      <th>88696</th>\n",
       "      <td>David</td>\n",
       "      <td>https://play-lh.googleusercontent.com/a-/ALV-U...</td>\n",
       "      <td>2024-08-18 11:25:45</td>\n",
       "      <td>Game crashes when starting with error code 806...</td>\n",
       "      <td>com.nintendo.zaka</td>\n",
       "    </tr>\n",
       "    <tr>\n",
       "      <th>99466</th>\n",
       "      <td>David</td>\n",
       "      <td>https://play-lh.googleusercontent.com/a/ACg8oc...</td>\n",
       "      <td>2024-09-05 23:59:16</td>\n",
       "      <td>I have had this game before and have it again ...</td>\n",
       "      <td>com.kabam.marvelbattle</td>\n",
       "    </tr>\n",
       "    <tr>\n",
       "      <th>85649</th>\n",
       "      <td>David</td>\n",
       "      <td>https://play-lh.googleusercontent.com/a/ACg8oc...</td>\n",
       "      <td>2024-09-19 07:39:20</td>\n",
       "      <td>I had to uninstall this game after about 45 se...</td>\n",
       "      <td>com.starform.metalstorm</td>\n",
       "    </tr>\n",
       "    <tr>\n",
       "      <th>92583</th>\n",
       "      <td>David</td>\n",
       "      <td>https://play-lh.googleusercontent.com/a/ACg8oc...</td>\n",
       "      <td>2024-09-25 22:55:18</td>\n",
       "      <td>Useless</td>\n",
       "      <td>com.nintendo.zara</td>\n",
       "    </tr>\n",
       "    <tr>\n",
       "      <th>105701</th>\n",
       "      <td>David</td>\n",
       "      <td>https://play-lh.googleusercontent.com/a/ACg8oc...</td>\n",
       "      <td>2024-10-04 13:49:03</td>\n",
       "      <td>AWESOME</td>\n",
       "      <td>com.gamedevltd.wwh</td>\n",
       "    </tr>\n",
       "    <tr>\n",
       "      <th>64997</th>\n",
       "      <td>David</td>\n",
       "      <td>https://play-lh.googleusercontent.com/a/ACg8oc...</td>\n",
       "      <td>2024-10-16 08:44:26</td>\n",
       "      <td>It's Amazing, I love how interactive Spring Va...</td>\n",
       "      <td>com.playkot.adventure</td>\n",
       "    </tr>\n",
       "    <tr>\n",
       "      <th>113723</th>\n",
       "      <td>David</td>\n",
       "      <td>https://play-lh.googleusercontent.com/a/ACg8oc...</td>\n",
       "      <td>2024-10-18 18:59:41</td>\n",
       "      <td>My childhood game new on my phone GROOVE STREE...</td>\n",
       "      <td>com.netflix.NGP.GTASanAndreasDefinitiveEdition</td>\n",
       "    </tr>\n",
       "    <tr>\n",
       "      <th>61841</th>\n",
       "      <td>David</td>\n",
       "      <td>https://play-lh.googleusercontent.com/a/ACg8oc...</td>\n",
       "      <td>2024-11-01 14:20:05</td>\n",
       "      <td>Great game</td>\n",
       "      <td>com.gameinsight.gplay.mmanor</td>\n",
       "    </tr>\n",
       "    <tr>\n",
       "      <th>85151</th>\n",
       "      <td>David</td>\n",
       "      <td>https://play-lh.googleusercontent.com/a/ACg8oc...</td>\n",
       "      <td>2024-11-05 02:18:01</td>\n",
       "      <td>Why does it take a lot of space to het it.Not ...</td>\n",
       "      <td>com.starform.metalstorm</td>\n",
       "    </tr>\n",
       "    <tr>\n",
       "      <th>78589</th>\n",
       "      <td>David</td>\n",
       "      <td>https://play-lh.googleusercontent.com/a/ACg8oc...</td>\n",
       "      <td>2024-11-20 00:19:40</td>\n",
       "      <td>Game is good. But it lacks a bit more of reali...</td>\n",
       "      <td>com.activision.callofduty.shooter</td>\n",
       "    </tr>\n",
       "    <tr>\n",
       "      <th>39915</th>\n",
       "      <td>David</td>\n",
       "      <td>https://play-lh.googleusercontent.com/a/ACg8oc...</td>\n",
       "      <td>2024-11-20 05:35:55</td>\n",
       "      <td>I have a TCL and it won't stop saying that it ...</td>\n",
       "      <td>com.nianticlabs.pokemongo</td>\n",
       "    </tr>\n",
       "    <tr>\n",
       "      <th>76255</th>\n",
       "      <td>David</td>\n",
       "      <td>https://play-lh.googleusercontent.com/a/ACg8oc...</td>\n",
       "      <td>2024-11-20 09:46:12</td>\n",
       "      <td>pretty cool</td>\n",
       "      <td>com.fungames.sniper3d</td>\n",
       "    </tr>\n",
       "    <tr>\n",
       "      <th>76157</th>\n",
       "      <td>David</td>\n",
       "      <td>https://play-lh.googleusercontent.com/a/ACg8oc...</td>\n",
       "      <td>2024-11-21 15:53:11</td>\n",
       "      <td>cool game</td>\n",
       "      <td>com.fungames.sniper3d</td>\n",
       "    </tr>\n",
       "    <tr>\n",
       "      <th>115711</th>\n",
       "      <td>David</td>\n",
       "      <td>https://play-lh.googleusercontent.com/a-/ALV-U...</td>\n",
       "      <td>2024-11-22 03:48:09</td>\n",
       "      <td>The best game</td>\n",
       "      <td>com.supercell.brawlstars</td>\n",
       "    </tr>\n",
       "    <tr>\n",
       "      <th>115428</th>\n",
       "      <td>David</td>\n",
       "      <td>https://play-lh.googleusercontent.com/a/ACg8oc...</td>\n",
       "      <td>2024-11-23 04:11:41</td>\n",
       "      <td>Great great game but only if the rank system w...</td>\n",
       "      <td>com.supercell.brawlstars</td>\n",
       "    </tr>\n",
       "    <tr>\n",
       "      <th>60316</th>\n",
       "      <td>David</td>\n",
       "      <td>https://play-lh.googleusercontent.com/a/ACg8oc...</td>\n",
       "      <td>2024-11-24 00:35:23</td>\n",
       "      <td>Great game 5 stars. Nice retro graphics.Sugges...</td>\n",
       "      <td>com.GalacticSlice.OneBitAdventure</td>\n",
       "    </tr>\n",
       "  </tbody>\n",
       "</table>\n",
       "</div>"
      ],
      "text/plain": [
       "       userName                                          userImage  \\\n",
       "34769     David  https://play-lh.googleusercontent.com/a-/ALV-U...   \n",
       "28058     David  https://play-lh.googleusercontent.com/a/ACg8oc...   \n",
       "62727     David  https://play-lh.googleusercontent.com/a/ACg8oc...   \n",
       "56912     David  https://play-lh.googleusercontent.com/a/ACg8oc...   \n",
       "92846     David  https://play-lh.googleusercontent.com/a-/ALV-U...   \n",
       "88882     David  https://play-lh.googleusercontent.com/a-/ALV-U...   \n",
       "53699     David  https://play-lh.googleusercontent.com/a/ACg8oc...   \n",
       "86173     David  https://play-lh.googleusercontent.com/a/ACg8oc...   \n",
       "88696     David  https://play-lh.googleusercontent.com/a-/ALV-U...   \n",
       "99466     David  https://play-lh.googleusercontent.com/a/ACg8oc...   \n",
       "85649     David  https://play-lh.googleusercontent.com/a/ACg8oc...   \n",
       "92583     David  https://play-lh.googleusercontent.com/a/ACg8oc...   \n",
       "105701    David  https://play-lh.googleusercontent.com/a/ACg8oc...   \n",
       "64997     David  https://play-lh.googleusercontent.com/a/ACg8oc...   \n",
       "113723    David  https://play-lh.googleusercontent.com/a/ACg8oc...   \n",
       "61841     David  https://play-lh.googleusercontent.com/a/ACg8oc...   \n",
       "85151     David  https://play-lh.googleusercontent.com/a/ACg8oc...   \n",
       "78589     David  https://play-lh.googleusercontent.com/a/ACg8oc...   \n",
       "39915     David  https://play-lh.googleusercontent.com/a/ACg8oc...   \n",
       "76255     David  https://play-lh.googleusercontent.com/a/ACg8oc...   \n",
       "76157     David  https://play-lh.googleusercontent.com/a/ACg8oc...   \n",
       "115711    David  https://play-lh.googleusercontent.com/a-/ALV-U...   \n",
       "115428    David  https://play-lh.googleusercontent.com/a/ACg8oc...   \n",
       "60316     David  https://play-lh.googleusercontent.com/a/ACg8oc...   \n",
       "\n",
       "                        at                                            content  \\\n",
       "34769  2021-07-07 18:17:06  Free app, kid likes to play on tablet. I hope ...   \n",
       "28058  2022-02-04 02:50:23  Worked fine the other day, but now loads 50% a...   \n",
       "62727  2023-09-18 03:16:37                                      Pretty decent   \n",
       "56912  2023-10-21 13:57:08                               great adventure game   \n",
       "92846  2024-08-02 06:19:46                                         Not for me   \n",
       "88882  2024-08-02 06:20:09                                         not for me   \n",
       "53699  2024-08-03 16:26:21  your game is good but o. a phone there are bit...   \n",
       "86173  2024-08-06 12:04:31                                        I'm hooked!   \n",
       "88696  2024-08-18 11:25:45  Game crashes when starting with error code 806...   \n",
       "99466  2024-09-05 23:59:16  I have had this game before and have it again ...   \n",
       "85649  2024-09-19 07:39:20  I had to uninstall this game after about 45 se...   \n",
       "92583  2024-09-25 22:55:18                                            Useless   \n",
       "105701 2024-10-04 13:49:03                                            AWESOME   \n",
       "64997  2024-10-16 08:44:26  It's Amazing, I love how interactive Spring Va...   \n",
       "113723 2024-10-18 18:59:41  My childhood game new on my phone GROOVE STREE...   \n",
       "61841  2024-11-01 14:20:05                                         Great game   \n",
       "85151  2024-11-05 02:18:01  Why does it take a lot of space to het it.Not ...   \n",
       "78589  2024-11-20 00:19:40  Game is good. But it lacks a bit more of reali...   \n",
       "39915  2024-11-20 05:35:55  I have a TCL and it won't stop saying that it ...   \n",
       "76255  2024-11-20 09:46:12                                        pretty cool   \n",
       "76157  2024-11-21 15:53:11                                          cool game   \n",
       "115711 2024-11-22 03:48:09                                      The best game   \n",
       "115428 2024-11-23 04:11:41  Great great game but only if the rank system w...   \n",
       "60316  2024-11-24 00:35:23  Great game 5 stars. Nice retro graphics.Sugges...   \n",
       "\n",
       "                                                 appId  \n",
       "34769                         com.mrswordsmith.WordTag  \n",
       "28058                   com.peppapig.worldofpeppapig_g  \n",
       "62727                     com.gameinsight.gplay.mmanor  \n",
       "56912          com.gamegos.adventure.bay.paradise.farm  \n",
       "92846                                com.nintendo.zara  \n",
       "88882                                com.nintendo.zaka  \n",
       "53699                     com.xgamesgroup.puzzleisland  \n",
       "86173                          com.starform.metalstorm  \n",
       "88696                                com.nintendo.zaka  \n",
       "99466                           com.kabam.marvelbattle  \n",
       "85649                          com.starform.metalstorm  \n",
       "92583                                com.nintendo.zara  \n",
       "105701                              com.gamedevltd.wwh  \n",
       "64997                            com.playkot.adventure  \n",
       "113723  com.netflix.NGP.GTASanAndreasDefinitiveEdition  \n",
       "61841                     com.gameinsight.gplay.mmanor  \n",
       "85151                          com.starform.metalstorm  \n",
       "78589                com.activision.callofduty.shooter  \n",
       "39915                        com.nianticlabs.pokemongo  \n",
       "76255                            com.fungames.sniper3d  \n",
       "76157                            com.fungames.sniper3d  \n",
       "115711                        com.supercell.brawlstars  \n",
       "115428                        com.supercell.brawlstars  \n",
       "60316                com.GalacticSlice.OneBitAdventure  "
      ]
     },
     "execution_count": 17,
     "metadata": {},
     "output_type": "execute_result"
    }
   ],
   "source": [
    "df_reviews[['userName','userImage','at','content','appId']][df_reviews['userName'] == 'David'].sort_values(by = 'at', ascending=True)"
   ]
  },
  {
   "cell_type": "markdown",
   "metadata": {},
   "source": [
    "Given the data we have, its hard to look at if its the same \"David\" for all of these reviews. A customerId should be helpful in this scenario."
   ]
  },
  {
   "cell_type": "markdown",
   "metadata": {},
   "source": [
    "Looking at complete names with middle initial may be the same person/user for all reviews."
   ]
  },
  {
   "cell_type": "code",
   "execution_count": 18,
   "metadata": {},
   "outputs": [
    {
     "data": {
      "text/html": [
       "<div>\n",
       "<style scoped>\n",
       "    .dataframe tbody tr th:only-of-type {\n",
       "        vertical-align: middle;\n",
       "    }\n",
       "\n",
       "    .dataframe tbody tr th {\n",
       "        vertical-align: top;\n",
       "    }\n",
       "\n",
       "    .dataframe thead th {\n",
       "        text-align: right;\n",
       "    }\n",
       "</style>\n",
       "<table border=\"1\" class=\"dataframe\">\n",
       "  <thead>\n",
       "    <tr style=\"text-align: right;\">\n",
       "      <th></th>\n",
       "      <th>userName</th>\n",
       "      <th>userImage</th>\n",
       "      <th>at</th>\n",
       "      <th>content</th>\n",
       "      <th>appId</th>\n",
       "    </tr>\n",
       "  </thead>\n",
       "  <tbody>\n",
       "    <tr>\n",
       "      <th>71089</th>\n",
       "      <td>Patrick P Smyth</td>\n",
       "      <td>https://play-lh.googleusercontent.com/a-/ALV-U...</td>\n",
       "      <td>2024-04-21 07:56:10</td>\n",
       "      <td>I loved it before my money began to vanish wit...</td>\n",
       "      <td>com.ffsvideogames.aab.eor4f2p</td>\n",
       "    </tr>\n",
       "    <tr>\n",
       "      <th>70876</th>\n",
       "      <td>Patrick P Smyth</td>\n",
       "      <td>https://play-lh.googleusercontent.com/a-/ALV-U...</td>\n",
       "      <td>2024-04-28 02:50:13</td>\n",
       "      <td>the beginning is mind twisting difficult.</td>\n",
       "      <td>com.elephantgames.gtguestfromthefuture</td>\n",
       "    </tr>\n",
       "    <tr>\n",
       "      <th>63468</th>\n",
       "      <td>Patrick P Smyth</td>\n",
       "      <td>https://play-lh.googleusercontent.com/a-/ALV-U...</td>\n",
       "      <td>2024-07-05 06:11:43</td>\n",
       "      <td>Eats money, nothing is terribly obvious and th...</td>\n",
       "      <td>com.fivebn.lt1.f2p</td>\n",
       "    </tr>\n",
       "    <tr>\n",
       "      <th>50140</th>\n",
       "      <td>Patrick P Smyth</td>\n",
       "      <td>https://play-lh.googleusercontent.com/a-/ALV-U...</td>\n",
       "      <td>2024-09-08 23:39:30</td>\n",
       "      <td>Hidden town squares full of objects repeated o...</td>\n",
       "      <td>com.g5e.hiddencity.android</td>\n",
       "    </tr>\n",
       "    <tr>\n",
       "      <th>45655</th>\n",
       "      <td>Patrick P Smyth</td>\n",
       "      <td>https://play-lh.googleusercontent.com/a-/ALV-U...</td>\n",
       "      <td>2024-11-03 03:16:58</td>\n",
       "      <td>Ban this game: it extorts money not only for h...</td>\n",
       "      <td>com.artifexmundi.mopa1.gp</td>\n",
       "    </tr>\n",
       "    <tr>\n",
       "      <th>40931</th>\n",
       "      <td>Patrick P Smyth</td>\n",
       "      <td>https://play-lh.googleusercontent.com/a-/ALV-U...</td>\n",
       "      <td>2024-11-12 06:16:05</td>\n",
       "      <td>Platform for advertising other games. I left i...</td>\n",
       "      <td>com.haiku.adventure.escape.game.mystery.stories</td>\n",
       "    </tr>\n",
       "  </tbody>\n",
       "</table>\n",
       "</div>"
      ],
      "text/plain": [
       "              userName                                          userImage  \\\n",
       "71089  Patrick P Smyth  https://play-lh.googleusercontent.com/a-/ALV-U...   \n",
       "70876  Patrick P Smyth  https://play-lh.googleusercontent.com/a-/ALV-U...   \n",
       "63468  Patrick P Smyth  https://play-lh.googleusercontent.com/a-/ALV-U...   \n",
       "50140  Patrick P Smyth  https://play-lh.googleusercontent.com/a-/ALV-U...   \n",
       "45655  Patrick P Smyth  https://play-lh.googleusercontent.com/a-/ALV-U...   \n",
       "40931  Patrick P Smyth  https://play-lh.googleusercontent.com/a-/ALV-U...   \n",
       "\n",
       "                       at                                            content  \\\n",
       "71089 2024-04-21 07:56:10  I loved it before my money began to vanish wit...   \n",
       "70876 2024-04-28 02:50:13          the beginning is mind twisting difficult.   \n",
       "63468 2024-07-05 06:11:43  Eats money, nothing is terribly obvious and th...   \n",
       "50140 2024-09-08 23:39:30  Hidden town squares full of objects repeated o...   \n",
       "45655 2024-11-03 03:16:58  Ban this game: it extorts money not only for h...   \n",
       "40931 2024-11-12 06:16:05  Platform for advertising other games. I left i...   \n",
       "\n",
       "                                                 appId  \n",
       "71089                    com.ffsvideogames.aab.eor4f2p  \n",
       "70876           com.elephantgames.gtguestfromthefuture  \n",
       "63468                               com.fivebn.lt1.f2p  \n",
       "50140                       com.g5e.hiddencity.android  \n",
       "45655                        com.artifexmundi.mopa1.gp  \n",
       "40931  com.haiku.adventure.escape.game.mystery.stories  "
      ]
     },
     "execution_count": 18,
     "metadata": {},
     "output_type": "execute_result"
    }
   ],
   "source": [
    "df_reviews[['userName','userImage','at','content','appId']][df_reviews['userName'] == 'Patrick P Smyth'].sort_values(by = 'at', ascending=True)"
   ]
  },
  {
   "cell_type": "code",
   "execution_count": 19,
   "metadata": {},
   "outputs": [
    {
     "data": {
      "text/plain": [
       "userName         userImage                                                                                        \n",
       "Patrick P Smyth  https://play-lh.googleusercontent.com/a-/ALV-UjUM_KfAwW7dcirYV_cABdV1lXP2_MRIRKIGeECogOk3qWUlouVv    6\n",
       "Name: count, dtype: int64"
      ]
     },
     "execution_count": 19,
     "metadata": {},
     "output_type": "execute_result"
    }
   ],
   "source": [
    "df_reviews[['userName','userImage']][df_reviews['userName'] == 'Patrick P Smyth'].value_counts()"
   ]
  },
  {
   "cell_type": "markdown",
   "metadata": {},
   "source": [
    "A sample of user that do have multiple reviews having distinct userName and userImage might be considered as a single user. "
   ]
  },
  {
   "cell_type": "markdown",
   "metadata": {},
   "source": [
    "#### reviewCreatedVersion"
   ]
  },
  {
   "cell_type": "code",
   "execution_count": 20,
   "metadata": {},
   "outputs": [
    {
     "data": {
      "text/plain": [
       "reviewCreatedVersion\n",
       "with_version    89574\n",
       "NA              31298\n",
       "Name: count, dtype: int64"
      ]
     },
     "execution_count": 20,
     "metadata": {},
     "output_type": "execute_result"
    }
   ],
   "source": [
    "df_reviews['reviewCreatedVersion'].apply(lambda x: 'NA' if x == None else 'with_version').value_counts()"
   ]
  },
  {
   "cell_type": "markdown",
   "metadata": {},
   "source": [
    "#### reviewCreatedVersion"
   ]
  },
  {
   "cell_type": "code",
   "execution_count": 21,
   "metadata": {},
   "outputs": [
    {
     "data": {
      "text/plain": [
       "at\n",
       "2024-11-24 16:36:18    4\n",
       "2024-11-24 18:52:39    3\n",
       "2024-11-24 16:08:09    3\n",
       "2024-11-24 20:22:44    3\n",
       "2024-11-24 20:22:52    3\n",
       "2024-11-23 14:37:22    3\n",
       "2024-11-24 17:04:00    3\n",
       "2024-11-23 22:40:15    3\n",
       "2024-11-24 20:12:32    3\n",
       "2024-11-24 15:48:46    3\n",
       "2024-11-20 20:34:48    3\n",
       "2024-11-24 19:05:47    3\n",
       "2024-11-24 20:07:43    3\n",
       "2024-11-23 01:10:14    3\n",
       "2024-11-24 18:10:09    3\n",
       "2024-11-24 19:22:33    3\n",
       "2024-11-24 05:06:06    3\n",
       "2024-11-12 01:42:06    3\n",
       "2024-11-19 22:52:57    3\n",
       "2024-11-18 21:51:04    3\n",
       "Name: count, dtype: int64"
      ]
     },
     "execution_count": 21,
     "metadata": {},
     "output_type": "execute_result"
    }
   ],
   "source": [
    "df_reviews['at'].value_counts()[:20]"
   ]
  },
  {
   "cell_type": "code",
   "execution_count": 22,
   "metadata": {},
   "outputs": [
    {
     "data": {
      "text/html": [
       "<div>\n",
       "<style scoped>\n",
       "    .dataframe tbody tr th:only-of-type {\n",
       "        vertical-align: middle;\n",
       "    }\n",
       "\n",
       "    .dataframe tbody tr th {\n",
       "        vertical-align: top;\n",
       "    }\n",
       "\n",
       "    .dataframe thead th {\n",
       "        text-align: right;\n",
       "    }\n",
       "</style>\n",
       "<table border=\"1\" class=\"dataframe\">\n",
       "  <thead>\n",
       "    <tr style=\"text-align: right;\">\n",
       "      <th></th>\n",
       "      <th>reviewId</th>\n",
       "      <th>userName</th>\n",
       "      <th>userImage</th>\n",
       "      <th>content</th>\n",
       "      <th>score</th>\n",
       "      <th>thumbsUpCount</th>\n",
       "      <th>reviewCreatedVersion</th>\n",
       "      <th>at</th>\n",
       "      <th>replyContent</th>\n",
       "      <th>repliedAt</th>\n",
       "      <th>appVersion</th>\n",
       "      <th>appId</th>\n",
       "    </tr>\n",
       "  </thead>\n",
       "  <tbody>\n",
       "    <tr>\n",
       "      <th>72169</th>\n",
       "      <td>b04e38fd-b6a5-4c88-9caa-81d6d650ff34</td>\n",
       "      <td>Ashley Bautista</td>\n",
       "      <td>https://play-lh.googleusercontent.com/a/ACg8oc...</td>\n",
       "      <td>Always log brat I hate this game</td>\n",
       "      <td>1</td>\n",
       "      <td>0</td>\n",
       "      <td>None</td>\n",
       "      <td>2024-11-24 16:36:18</td>\n",
       "      <td>None</td>\n",
       "      <td>NaT</td>\n",
       "      <td>None</td>\n",
       "      <td>com.roblox.client</td>\n",
       "    </tr>\n",
       "    <tr>\n",
       "      <th>72170</th>\n",
       "      <td>43f6abb4-8c81-487c-ac5e-438ff1531caa</td>\n",
       "      <td>Yolande Christiaans</td>\n",
       "      <td>https://play-lh.googleusercontent.com/a-/ALV-U...</td>\n",
       "      <td>It's an amazing app my son loves the games</td>\n",
       "      <td>5</td>\n",
       "      <td>0</td>\n",
       "      <td>2.649.875</td>\n",
       "      <td>2024-11-24 16:36:18</td>\n",
       "      <td>None</td>\n",
       "      <td>NaT</td>\n",
       "      <td>2.649.875</td>\n",
       "      <td>com.roblox.client</td>\n",
       "    </tr>\n",
       "    <tr>\n",
       "      <th>72171</th>\n",
       "      <td>4d299d99-b423-4001-8e70-100efc52a047</td>\n",
       "      <td>Kiran ghare</td>\n",
       "      <td>https://play-lh.googleusercontent.com/a-/ALV-U...</td>\n",
       "      <td>Nice</td>\n",
       "      <td>5</td>\n",
       "      <td>0</td>\n",
       "      <td>2.650.742</td>\n",
       "      <td>2024-11-24 16:36:18</td>\n",
       "      <td>None</td>\n",
       "      <td>NaT</td>\n",
       "      <td>2.650.742</td>\n",
       "      <td>com.roblox.client</td>\n",
       "    </tr>\n",
       "    <tr>\n",
       "      <th>82860</th>\n",
       "      <td>9109e4c3-e2a4-43d6-afc9-dfc8cf6427c6</td>\n",
       "      <td>Rosni Khan</td>\n",
       "      <td>https://play-lh.googleusercontent.com/a/ACg8oc...</td>\n",
       "      <td>Free fire is a good game</td>\n",
       "      <td>5</td>\n",
       "      <td>0</td>\n",
       "      <td>None</td>\n",
       "      <td>2024-11-24 16:36:18</td>\n",
       "      <td>None</td>\n",
       "      <td>NaT</td>\n",
       "      <td>None</td>\n",
       "      <td>com.dts.freefiremax</td>\n",
       "    </tr>\n",
       "  </tbody>\n",
       "</table>\n",
       "</div>"
      ],
      "text/plain": [
       "                                   reviewId             userName  \\\n",
       "72169  b04e38fd-b6a5-4c88-9caa-81d6d650ff34      Ashley Bautista   \n",
       "72170  43f6abb4-8c81-487c-ac5e-438ff1531caa  Yolande Christiaans   \n",
       "72171  4d299d99-b423-4001-8e70-100efc52a047          Kiran ghare   \n",
       "82860  9109e4c3-e2a4-43d6-afc9-dfc8cf6427c6           Rosni Khan   \n",
       "\n",
       "                                               userImage  \\\n",
       "72169  https://play-lh.googleusercontent.com/a/ACg8oc...   \n",
       "72170  https://play-lh.googleusercontent.com/a-/ALV-U...   \n",
       "72171  https://play-lh.googleusercontent.com/a-/ALV-U...   \n",
       "82860  https://play-lh.googleusercontent.com/a/ACg8oc...   \n",
       "\n",
       "                                          content  score  thumbsUpCount  \\\n",
       "72169            Always log brat I hate this game      1              0   \n",
       "72170  It's an amazing app my son loves the games      5              0   \n",
       "72171                                        Nice      5              0   \n",
       "82860                    Free fire is a good game      5              0   \n",
       "\n",
       "      reviewCreatedVersion                  at replyContent repliedAt  \\\n",
       "72169                 None 2024-11-24 16:36:18         None       NaT   \n",
       "72170            2.649.875 2024-11-24 16:36:18         None       NaT   \n",
       "72171            2.650.742 2024-11-24 16:36:18         None       NaT   \n",
       "82860                 None 2024-11-24 16:36:18         None       NaT   \n",
       "\n",
       "      appVersion                appId  \n",
       "72169       None    com.roblox.client  \n",
       "72170  2.649.875    com.roblox.client  \n",
       "72171  2.650.742    com.roblox.client  \n",
       "82860       None  com.dts.freefiremax  "
      ]
     },
     "execution_count": 22,
     "metadata": {},
     "output_type": "execute_result"
    }
   ],
   "source": [
    "df_reviews[df_reviews['at'] == '2024-11-24 16:36:18']"
   ]
  },
  {
   "cell_type": "markdown",
   "metadata": {},
   "source": [
    "There are times that \"at\"'s datetimes are the same for user comments."
   ]
  },
  {
   "cell_type": "markdown",
   "metadata": {},
   "source": [
    "Same data with AppVersion"
   ]
  },
  {
   "cell_type": "code",
   "execution_count": 23,
   "metadata": {},
   "outputs": [
    {
     "data": {
      "text/plain": [
       "reviewCreatedVersion  appVersion     \n",
       "6.02.04               6.02.04            1274\n",
       "5.9.8a                5.9.8a             1225\n",
       "58.279                58.279             1113\n",
       "3.5.0                 3.5.0               957\n",
       "3.10.0.19854920       3.10.0.19854920     955\n",
       "                                         ... \n",
       "2.10.3                2.10.3                1\n",
       "2.10.3.0              2.10.3.0              1\n",
       "2.10.9.0              2.10.9.0              1\n",
       "2.11.1                2.11.1                1\n",
       "18.0.4                18.0.4                1\n",
       "Name: count, Length: 2076, dtype: int64"
      ]
     },
     "execution_count": 23,
     "metadata": {},
     "output_type": "execute_result"
    }
   ],
   "source": [
    "df_reviews[['reviewCreatedVersion','appVersion']].value_counts()"
   ]
  },
  {
   "cell_type": "markdown",
   "metadata": {},
   "source": [
    "#### replyContent"
   ]
  },
  {
   "cell_type": "code",
   "execution_count": 24,
   "metadata": {},
   "outputs": [
    {
     "data": {
      "text/plain": [
       "replyContent\n",
       "NA            87604\n",
       "w/ REPLIES    33268\n",
       "Name: count, dtype: int64"
      ]
     },
     "execution_count": 24,
     "metadata": {},
     "output_type": "execute_result"
    }
   ],
   "source": [
    "df_reviews['replyContent'].apply(lambda x: 'NA' if x == None else 'w/ REPLIES').value_counts()"
   ]
  },
  {
   "cell_type": "code",
   "execution_count": 25,
   "metadata": {},
   "outputs": [
    {
     "data": {
      "text/plain": [
       "87604"
      ]
     },
     "execution_count": 25,
     "metadata": {},
     "output_type": "execute_result"
    }
   ],
   "source": [
    "df_reviews['repliedAt'].isna().sum()"
   ]
  },
  {
   "cell_type": "markdown",
   "metadata": {},
   "source": [
    "If there is a \"replyContent\" then the time is logged in \"repliedAt\""
   ]
  },
  {
   "cell_type": "markdown",
   "metadata": {},
   "source": [
    "### Numerical Variables"
   ]
  },
  {
   "cell_type": "markdown",
   "metadata": {},
   "source": [
    "#### score"
   ]
  },
  {
   "cell_type": "code",
   "execution_count": 26,
   "metadata": {},
   "outputs": [
    {
     "data": {
      "image/png": "[encoded data removed]",
      "text/plain": [
       "<Figure size 640x480 with 1 Axes>"
      ]
     },
     "metadata": {},
     "output_type": "display_data"
    }
   ],
   "source": [
    "(df_reviews['score'].value_counts()).plot(kind = 'bar', alpha = 0.6)\n",
    "plt.ylabel('Counts')\n",
    "plt.title('Overall Score Rating Counts')\n",
    "plt.show()"
   ]
  },
  {
   "cell_type": "markdown",
   "metadata": {},
   "source": [
    "- There is not NA observed in score ratings. \n",
    "- A large chunk of data is scored as 5."
   ]
  },
  {
   "cell_type": "markdown",
   "metadata": {},
   "source": [
    "#### ThumbsUpcount"
   ]
  },
  {
   "cell_type": "code",
   "execution_count": 27,
   "metadata": {},
   "outputs": [
    {
     "data": {
      "image/png": "[encoded data removed]",
      "text/plain": [
       "<Figure size 640x480 with 1 Axes>"
      ]
     },
     "metadata": {},
     "output_type": "display_data"
    }
   ],
   "source": [
    "(pd.cut(df_reviews['thumbsUpCount'], bins = [-float('inf'), 1, 10, 50, 200, 1000, float('inf')], labels = ['0_LIKES','1-10_LIKES','10-50_LIKES','50-200_LIKES', '200-1000_LIKES','1000-above_LIKES']).value_counts()).plot(kind = 'bar', color = 'red',alpha = 0.4)\n",
    "plt.ylabel('Counts')\n",
    "plt.title('Overall ThumbsUP/Likes Counts')\n",
    "plt.xticks(rotation = 45)\n",
    "plt.show()"
   ]
  },
  {
   "cell_type": "markdown",
   "metadata": {},
   "source": [
    "### Content \n",
    "---\n",
    "Feature that is the most important for topic modeling"
   ]
  },
  {
   "cell_type": "markdown",
   "metadata": {},
   "source": [
    "##### Frequency of Words"
   ]
  },
  {
   "cell_type": "code",
   "execution_count": 28,
   "metadata": {},
   "outputs": [
    {
     "data": {
      "text/plain": [
       "[('the', 51365),\n",
       " ('game', 51028),\n",
       " ('I', 44871),\n",
       " ('to', 42944),\n",
       " ('and', 40397),\n",
       " ('is', 31047),\n",
       " ('it', 29030),\n",
       " ('a', 27494),\n",
       " ('this', 24157),\n",
       " ('for', 20586),\n",
       " ('you', 16982),\n",
       " ('of', 16567),\n",
       " ('but', 15645),\n",
       " ('my', 14550),\n",
       " ('good', 14079),\n",
       " ('so', 11854),\n",
       " ('in', 11746),\n",
       " ('have', 10303),\n",
       " ('play', 9936),\n",
       " ('love', 9726),\n",
       " ('very', 9530),\n",
       " ('like', 9471),\n",
       " ('that', 9015),\n",
       " ('not', 8878),\n",
       " ('on', 8419),\n",
       " ('with', 7917),\n",
       " ('are', 7885),\n",
       " ('fun', 7822),\n",
       " ('This', 7677),\n",
       " (\"it's\", 7098),\n",
       " ('app', 6693),\n",
       " ('get', 6371),\n",
       " ('Good', 6264),\n",
       " ('The', 6253),\n",
       " ('i', 6185),\n",
       " ('me', 6161),\n",
       " ('be', 5908),\n",
       " ('can', 5732),\n",
       " ('just', 5726),\n",
       " ('game.', 5341),\n",
       " ('all', 5199),\n",
       " ('games', 5108),\n",
       " ('was', 5090),\n",
       " ('really', 5064),\n",
       " ('It', 5039),\n",
       " ('more', 4855),\n",
       " (\"It's\", 4844),\n",
       " ('best', 4639),\n",
       " ('Very', 4611),\n",
       " ('playing', 4541)]"
      ]
     },
     "metadata": {},
     "output_type": "display_data"
    }
   ],
   "source": [
    "from collections import Counter\n",
    "word_frequency = Counter(df_reviews['content'].str.cat(sep = ' ').split())\n",
    "display(word_frequency.most_common(50))"
   ]
  },
  {
   "cell_type": "markdown",
   "metadata": {},
   "source": [
    "Most frequents words are a mix of parts of speech but there are some words that do have the same relevance like \"games\", \"game\", & \"game.\", which refers to the word \"GAME\". We will try to improve these type of words."
   ]
  },
  {
   "cell_type": "markdown",
   "metadata": {},
   "source": [
    "#### N-grams\n",
    "Defined as a sequence of n-words"
   ]
  },
  {
   "cell_type": "code",
   "execution_count": 29,
   "metadata": {},
   "outputs": [
    {
     "data": {
      "text/plain": [
       "[(('this', 'game'), 10659),\n",
       " (('the', 'game'), 7262),\n",
       " (('game', 'is'), 6663),\n",
       " (('I', 'love'), 5306),\n",
       " (('to', 'play'), 4291),\n",
       " (('This', 'game'), 3573),\n",
       " (('of', 'the'), 3380),\n",
       " (('I', 'have'), 3368),\n",
       " (('love', 'this'), 3184),\n",
       " (('is', 'a'), 2994),\n",
       " (('good', 'game'), 2917),\n",
       " (('in', 'the'), 2736),\n",
       " (('and', 'I'), 2608),\n",
       " (('This', 'is'), 2506),\n",
       " (('I', 'like'), 2439),\n",
       " (('have', 'to'), 2429),\n",
       " (('it', 'is'), 2393),\n",
       " (('the', 'best'), 2393),\n",
       " (('game', 'I'), 2319),\n",
       " (('game', 'but'), 2259),\n",
       " (('is', 'very'), 2180),\n",
       " (('game', 'for'), 2166),\n",
       " (('to', 'get'), 2061),\n",
       " (('is', 'the'), 2057),\n",
       " (('and', 'the'), 2039),\n",
       " (('love', 'it'), 2021),\n",
       " (('game', 'and'), 1995),\n",
       " (('I', 'am'), 1985),\n",
       " (('for', 'the'), 1833),\n",
       " (('very', 'good'), 1803),\n",
       " (('to', 'be'), 1802),\n",
       " (('It', 'is'), 1768),\n",
       " (('The', 'game'), 1754),\n",
       " (('for', 'kids'), 1714),\n",
       " (('so', 'much'), 1710),\n",
       " (('I', \"can't\"), 1710),\n",
       " (('to', 'the'), 1664),\n",
       " (('and', 'it'), 1657),\n",
       " (('best', 'game'), 1630),\n",
       " (('a', 'good'), 1611),\n",
       " (('but', 'I'), 1601),\n",
       " (('this', 'is'), 1596),\n",
       " (('I', \"don't\"), 1552),\n",
       " (('is', 'so'), 1545),\n",
       " (('a', 'lot'), 1538),\n",
       " (('Good', 'game'), 1489),\n",
       " (('like', 'this'), 1486),\n",
       " (('for', 'a'), 1467),\n",
       " (('you', 'can'), 1448),\n",
       " (('if', 'you'), 1437)]"
      ]
     },
     "execution_count": 29,
     "metadata": {},
     "output_type": "execute_result"
    }
   ],
   "source": [
    "from nltk.util import ngrams\n",
    "\n",
    "Counter(list(ngrams(df_reviews['content'].str.cat(sep = ' ').split(), 2))).most_common(50)"
   ]
  },
  {
   "cell_type": "markdown",
   "metadata": {},
   "source": [
    "##### Application of Lower Casing for improved Frequency and Bigrams"
   ]
  },
  {
   "cell_type": "code",
   "execution_count": 30,
   "metadata": {},
   "outputs": [
    {
     "data": {
      "text/plain": [
       "[('the', 58246),\n",
       " ('game', 53674),\n",
       " ('i', 51056),\n",
       " ('to', 43779),\n",
       " ('and', 42324),\n",
       " ('it', 34543),\n",
       " ('this', 32412),\n",
       " ('is', 32115),\n",
       " ('a', 28789),\n",
       " ('for', 21220),\n",
       " ('good', 20567),\n",
       " ('you', 18784),\n",
       " ('my', 18595),\n",
       " ('but', 17330),\n",
       " ('of', 16855),\n",
       " ('very', 14305),\n",
       " ('so', 14029),\n",
       " ('love', 12929),\n",
       " ('in', 12259),\n",
       " (\"it's\", 12007),\n",
       " ('have', 10721),\n",
       " ('not', 10452),\n",
       " ('play', 10401),\n",
       " ('like', 10050),\n",
       " ('fun', 9695),\n",
       " ('that', 9362),\n",
       " ('on', 8668),\n",
       " ('great', 8300),\n",
       " ('with', 8128),\n",
       " ('are', 8002),\n",
       " ('best', 7381),\n",
       " ('nice', 7356),\n",
       " ('app', 7101),\n",
       " ('just', 6696),\n",
       " ('get', 6534),\n",
       " ('me', 6349),\n",
       " ('can', 6226),\n",
       " ('be', 6036),\n",
       " ('really', 5970),\n",
       " ('all', 5756),\n",
       " ('game.', 5460),\n",
       " ('was', 5352),\n",
       " ('games', 5334),\n",
       " ('more', 5063),\n",
       " ('if', 5011),\n",
       " ('no', 4997),\n",
       " ('when', 4781),\n",
       " ('playing', 4677),\n",
       " ('your', 4383),\n",
       " ('time', 4341)]"
      ]
     },
     "metadata": {},
     "output_type": "display_data"
    }
   ],
   "source": [
    "# Word Frequency\n",
    "word_frequency = Counter(df_reviews['content'].str.lower().str.cat(sep = ' ').split())\n",
    "display(word_frequency.most_common(50))"
   ]
  },
  {
   "cell_type": "code",
   "execution_count": 31,
   "metadata": {},
   "outputs": [
    {
     "data": {
      "text/plain": [
       "[(('this', 'game'), 14634),\n",
       " (('the', 'game'), 9143),\n",
       " (('game', 'is'), 7352),\n",
       " (('i', 'love'), 6181),\n",
       " (('good', 'game'), 4570),\n",
       " (('to', 'play'), 4375),\n",
       " (('it', 'is'), 4248),\n",
       " (('this', 'is'), 4207),\n",
       " (('love', 'this'), 4188),\n",
       " (('i', 'have'), 3867),\n",
       " (('of', 'the'), 3439),\n",
       " (('very', 'good'), 3323),\n",
       " (('and', 'i'), 3303),\n",
       " (('is', 'a'), 3096),\n",
       " (('the', 'best'), 3076),\n",
       " (('best', 'game'), 3049),\n",
       " (('game', 'i'), 2898),\n",
       " (('in', 'the'), 2839),\n",
       " (('i', 'like'), 2825),\n",
       " (('love', 'it'), 2747),\n",
       " (('have', 'to'), 2531),\n",
       " (('game', 'but'), 2333),\n",
       " (('i', 'am'), 2276),\n",
       " (('is', 'very'), 2266),\n",
       " (('nice', 'game'), 2242),\n",
       " (('game', 'for'), 2225),\n",
       " (('and', 'the'), 2209),\n",
       " (('but', 'i'), 2185),\n",
       " (('great', 'game'), 2158),\n",
       " (('is', 'the'), 2136),\n",
       " (('to', 'get'), 2087),\n",
       " (('game', 'and'), 2060),\n",
       " ((\"it's\", 'a'), 1983),\n",
       " (('this', 'app'), 1980),\n",
       " (('so', 'much'), 1893),\n",
       " (('for', 'the'), 1880),\n",
       " (('i', \"can't\"), 1878),\n",
       " (('love', 'the'), 1876),\n",
       " (('to', 'be'), 1861),\n",
       " (('if', 'you'), 1850),\n",
       " (('when', 'i'), 1823),\n",
       " (('for', 'kids'), 1768),\n",
       " (('and', 'it'), 1757),\n",
       " (('you', 'can'), 1721),\n",
       " (('a', 'good'), 1714),\n",
       " (('to', 'the'), 1696),\n",
       " (('i', \"don't\"), 1667),\n",
       " (('a', 'lot'), 1653),\n",
       " (('is', 'so'), 1624),\n",
       " (('very', 'nice'), 1570)]"
      ]
     },
     "execution_count": 31,
     "metadata": {},
     "output_type": "execute_result"
    }
   ],
   "source": [
    "Counter(list(ngrams(df_reviews['content'].str.lower().str.cat(sep = ' ').split(), 2))).most_common(50)"
   ]
  },
  {
   "cell_type": "markdown",
   "metadata": {},
   "source": [
    "Converting text/tokens into lower case letters improves approriate counting. Hence, there are still unclear bigrams present that needs further cleaning. "
   ]
  },
  {
   "cell_type": "markdown",
   "metadata": {},
   "source": [
    "#### Stopwords\n",
    "Words that doesn't provide meaningful information such as \"the\", \"and\", and \"I\". "
   ]
  },
  {
   "cell_type": "code",
   "execution_count": 32,
   "metadata": {},
   "outputs": [
    {
     "name": "stderr",
     "output_type": "stream",
     "text": [
      "[nltk_data] Downloading package stopwords to\n",
      "[nltk_data]     C:\\Users\\Mund\\AppData\\Roaming\\nltk_data...\n",
      "[nltk_data]   Package stopwords is already up-to-date!\n"
     ]
    },
    {
     "data": {
      "text/plain": [
       "True"
      ]
     },
     "execution_count": 32,
     "metadata": {},
     "output_type": "execute_result"
    }
   ],
   "source": [
    "import nltk\n",
    "nltk.download('stopwords')"
   ]
  },
  {
   "cell_type": "code",
   "execution_count": 33,
   "metadata": {},
   "outputs": [
    {
     "name": "stdout",
     "output_type": "stream",
     "text": [
      "{\"mustn't\", 'for', 'your', 'few', 'most', 'an', 'some', 't', 'be', 'haven', 'the', \"aren't\", 'over', 'not', 'm', 'just', 'how', 'don', \"it's\", 'such', 'theirs', 'he', 'his', 'o', 'ourselves', 'has', 'in', 'same', 'its', 'too', \"mightn't\", 'to', 'mustn', \"you'd\", 'am', \"weren't\", 'we', 'until', 'do', \"don't\", 've', 'why', 'my', 'shouldn', 'up', \"wasn't\", 'ain', 'after', 'then', 'when', \"shan't\", 'where', 'had', 'didn', 'her', 'does', 'can', 'that', 'hadn', \"doesn't\", \"wouldn't\", 'those', 'will', 'very', 'couldn', 'hasn', 'yours', \"you'll\", 'this', \"that'll\", 'being', 's', 'whom', 'shan', 'with', 'off', 'at', \"hasn't\", 'needn', 'who', 'again', 'only', 'about', \"hadn't\", 'more', 'doesn', 'before', 'but', 'between', 'herself', 'own', 'isn', 'won', 'himself', 'because', 'by', 'any', 'which', 'above', \"couldn't\", 'you', 'ours', 'themselves', 'against', 'into', \"won't\", 'they', 're', 'below', 'ma', 'their', 'as', \"should've\", 'our', 'through', 'did', 'll', 'is', 'wasn', 'yourselves', 'were', \"shouldn't\", 'weren', 'during', 'from', 'should', 'or', \"you're\", 'here', 'a', 'hers', 'these', 'wouldn', 'myself', 'mightn', 'there', 'down', 'under', 'of', 'him', 'itself', 'having', 'than', 'while', \"didn't\", 'she', \"isn't\", 'd', 'i', 'yourself', 'are', 'what', 'all', 'further', 'each', \"needn't\", 'on', 'was', 'once', 'other', 'aren', 'if', 'no', 'so', 'and', 'y', 'doing', \"you've\", 'now', 'out', 'me', 'it', \"she's\", 'been', 'have', 'both', 'them', 'nor', \"haven't\"}\n"
     ]
    }
   ],
   "source": [
    "from nltk.corpus import stopwords\n",
    "\n",
    "stops = set(stopwords.words('english'))\n",
    "print(stops)"
   ]
  },
  {
   "cell_type": "code",
   "execution_count": 34,
   "metadata": {},
   "outputs": [
    {
     "name": "stdout",
     "output_type": "stream",
     "text": [
      "Word: i = 51056\n",
      "Word: it = 34543\n",
      "Word: and = 42324\n",
      "Word: its = 3248\n",
      "Word: for = 21220\n",
      "Word: my = 18595\n",
      "Word: she = 795\n",
      "Word: be = 6036\n",
      "Word: to = 43779\n",
      "Word: do = 3946\n",
      "Word: this = 32412\n",
      "Word: have = 10721\n",
      "Word: when = 4781\n",
      "Word: had = 1655\n",
      "Word: of = 16855\n",
      "Word: is = 32115\n",
      "Word: a = 28789\n",
      "Word: didn't = 965\n",
      "Word: very = 14305\n",
      "Word: the = 58246\n",
      "Word: at = 3611\n",
      "Word: just = 6696\n",
      "Word: he = 1119\n",
      "Word: up = 2677\n",
      "Word: his = 377\n",
      "Word: own = 341\n",
      "Word: doesn't = 1450\n",
      "Word: while = 1129\n",
      "Word: with = 8128\n",
      "Word: our = 622\n",
      "Word: your = 4383\n",
      "Word: has = 3590\n",
      "Word: so = 14029\n",
      "Word: about = 1857\n",
      "Word: how = 2310\n",
      "Word: them = 1415\n",
      "Word: as = 4155\n",
      "Word: him = 351\n",
      "Word: from = 2957\n",
      "Word: no = 4997\n",
      "Word: can = 6226\n",
      "Word: having = 1034\n",
      "Word: same = 1367\n",
      "Word: any = 1641\n",
      "Word: or = 4270\n",
      "Word: in = 12259\n",
      "Word: but = 17330\n",
      "Word: you = 18784\n",
      "Word: are = 8002\n",
      "Word: then = 2215\n",
      "Word: other = 2266\n",
      "Word: does = 851\n",
      "Word: out = 2811\n",
      "Word: was = 5352\n",
      "Word: it's = 12007\n",
      "Word: their = 904\n",
      "Word: because = 3798\n",
      "Word: more = 5063\n",
      "Word: they = 4178\n",
      "Word: too = 3322\n",
      "Word: me = 6349\n",
      "Word: over = 1349\n",
      "Word: yourself = 66\n",
      "Word: who = 957\n",
      "Word: t = 127\n",
      "Word: under = 121\n",
      "Word: what = 2325\n",
      "Word: don't = 4083\n",
      "Word: an = 3141\n",
      "Word: only = 3702\n",
      "Word: all = 5756\n",
      "Word: on = 8668\n",
      "Word: that = 9362\n",
      "Word: you're = 559\n",
      "Word: if = 5011\n",
      "Word: should = 1574\n",
      "Word: won't = 1163\n",
      "Word: there = 3635\n",
      "Word: re = 69\n",
      "Word: not = 10452\n",
      "Word: we = 2491\n",
      "Word: o = 179\n",
      "Word: haven't = 357\n",
      "Word: until = 717\n",
      "Word: than = 1889\n",
      "Word: these = 1087\n",
      "Word: am = 2713\n",
      "Word: between = 206\n",
      "Word: such = 679\n",
      "Word: off = 734\n",
      "Word: some = 2741\n",
      "Word: doing = 448\n",
      "Word: why = 1938\n",
      "Word: each = 492\n",
      "Word: been = 2818\n",
      "Word: now = 3398\n",
      "Word: will = 3450\n",
      "Word: most = 1037\n",
      "Word: here = 351\n",
      "Word: after = 2714\n",
      "Word: her = 511\n",
      "Word: through = 587\n",
      "Word: which = 1491\n",
      "Word: by = 1489\n",
      "Word: before = 920\n",
      "Word: where = 1018\n",
      "Word: being = 839\n",
      "Word: were = 642\n",
      "Word: again = 1090\n",
      "Word: did = 819\n",
      "Word: once = 610\n",
      "Word: she's = 97\n",
      "Word: s = 155\n",
      "Word: won = 56\n",
      "Word: ma = 46\n",
      "Word: ve = 31\n",
      "Word: into = 1022\n",
      "Word: y = 176\n",
      "Word: m = 117\n",
      "Word: hadn't = 19\n",
      "Word: down = 607\n",
      "Word: wouldn't = 202\n",
      "Word: few = 957\n",
      "Word: couldn't = 298\n",
      "Word: herself = 11\n",
      "Word: aren't = 218\n",
      "Word: those = 442\n",
      "Word: d = 116\n",
      "Word: both = 218\n",
      "Word: myself = 108\n",
      "Word: below = 32\n",
      "Word: wasn't = 201\n",
      "Word: themselves = 34\n",
      "Word: isn't = 468\n",
      "Word: you've = 80\n",
      "Word: you'll = 198\n",
      "Word: shouldn't = 80\n",
      "Word: hasn't = 55\n",
      "Word: during = 245\n",
      "Word: itself = 150\n",
      "Word: against = 286\n",
      "Word: ours = 3\n",
      "Word: ourselves = 5\n",
      "Word: ll = 19\n",
      "Word: nor = 78\n",
      "Word: whom = 10\n",
      "Word: above = 93\n",
      "Word: hers = 3\n",
      "Word: weren't = 60\n",
      "Word: further = 130\n",
      "Word: don = 17\n",
      "Word: yours = 40\n",
      "Word: theirs = 13\n",
      "Word: himself = 7\n",
      "Word: you'd = 28\n",
      "Word: ain = 1\n",
      "Word: should've = 9\n",
      "Word: shan = 2\n",
      "Word: that'll = 5\n",
      "Word: yourselves = 7\n"
     ]
    }
   ],
   "source": [
    "# Stopwords in reviews\n",
    "for x in word_frequency.keys():\n",
    "    if x in list(stops):\n",
    "        print(f\"Word: {x} = {word_frequency.get(x)}\")"
   ]
  },
  {
   "cell_type": "markdown",
   "metadata": {},
   "source": [
    "Short Tokens reviews"
   ]
  },
  {
   "cell_type": "code",
   "execution_count": 35,
   "metadata": {},
   "outputs": [
    {
     "data": {
      "text/html": [
       "<div>\n",
       "<style scoped>\n",
       "    .dataframe tbody tr th:only-of-type {\n",
       "        vertical-align: middle;\n",
       "    }\n",
       "\n",
       "    .dataframe tbody tr th {\n",
       "        vertical-align: top;\n",
       "    }\n",
       "\n",
       "    .dataframe thead th {\n",
       "        text-align: right;\n",
       "    }\n",
       "</style>\n",
       "<table border=\"1\" class=\"dataframe\">\n",
       "  <thead>\n",
       "    <tr style=\"text-align: right;\">\n",
       "      <th></th>\n",
       "      <th>content</th>\n",
       "      <th>userName</th>\n",
       "      <th>score</th>\n",
       "      <th>appId</th>\n",
       "    </tr>\n",
       "  </thead>\n",
       "  <tbody>\n",
       "    <tr>\n",
       "      <th>2</th>\n",
       "      <td>amp</td>\n",
       "      <td>Hashir Ashfaq</td>\n",
       "      <td>5</td>\n",
       "      <td>com.rvappstudios.abc_kids_toddler_tracing_phonics</td>\n",
       "    </tr>\n",
       "    <tr>\n",
       "      <th>15</th>\n",
       "      <td>😸😺</td>\n",
       "      <td>Karen Mae N. Bermudes Karen Mae N. Bermudes</td>\n",
       "      <td>2</td>\n",
       "      <td>com.rvappstudios.abc_kids_toddler_tracing_phonics</td>\n",
       "    </tr>\n",
       "    <tr>\n",
       "      <th>20</th>\n",
       "      <td>ok</td>\n",
       "      <td>Nahid Ahmed</td>\n",
       "      <td>4</td>\n",
       "      <td>com.rvappstudios.abc_kids_toddler_tracing_phonics</td>\n",
       "    </tr>\n",
       "    <tr>\n",
       "      <th>37</th>\n",
       "      <td>🥰</td>\n",
       "      <td>Stanslous Mutie</td>\n",
       "      <td>5</td>\n",
       "      <td>com.rvappstudios.abc_kids_toddler_tracing_phonics</td>\n",
       "    </tr>\n",
       "    <tr>\n",
       "      <th>75</th>\n",
       "      <td>ok</td>\n",
       "      <td>rian bunkers</td>\n",
       "      <td>1</td>\n",
       "      <td>com.rvappstudios.abc_kids_toddler_tracing_phonics</td>\n",
       "    </tr>\n",
       "    <tr>\n",
       "      <th>...</th>\n",
       "      <td>...</td>\n",
       "      <td>...</td>\n",
       "      <td>...</td>\n",
       "      <td>...</td>\n",
       "    </tr>\n",
       "    <tr>\n",
       "      <th>120611</th>\n",
       "      <td>Wow</td>\n",
       "      <td>Steve Maple</td>\n",
       "      <td>4</td>\n",
       "      <td>com.squareenixmontreal.hitmansniperandroid</td>\n",
       "    </tr>\n",
       "    <tr>\n",
       "      <th>120630</th>\n",
       "      <td>💖</td>\n",
       "      <td>YTr. Gaurav Thorat</td>\n",
       "      <td>5</td>\n",
       "      <td>com.squareenixmontreal.hitmansniperandroid</td>\n",
       "    </tr>\n",
       "    <tr>\n",
       "      <th>120640</th>\n",
       "      <td>Fun</td>\n",
       "      <td>David Viramontes</td>\n",
       "      <td>5</td>\n",
       "      <td>com.squareenixmontreal.hitmansniperandroid</td>\n",
       "    </tr>\n",
       "    <tr>\n",
       "      <th>120799</th>\n",
       "      <td>👌</td>\n",
       "      <td>Deeptha Vakkayil</td>\n",
       "      <td>5</td>\n",
       "      <td>com.squareenixmontreal.hitmansniperandroid</td>\n",
       "    </tr>\n",
       "    <tr>\n",
       "      <th>120858</th>\n",
       "      <td>Gud</td>\n",
       "      <td>Derrick Simien</td>\n",
       "      <td>5</td>\n",
       "      <td>com.squareenixmontreal.hitmansniperandroid</td>\n",
       "    </tr>\n",
       "  </tbody>\n",
       "</table>\n",
       "<p>3002 rows × 4 columns</p>\n",
       "</div>"
      ],
      "text/plain": [
       "       content                                     userName  score  \\\n",
       "2          amp                                Hashir Ashfaq      5   \n",
       "15          😸😺  Karen Mae N. Bermudes Karen Mae N. Bermudes      2   \n",
       "20          ok                                  Nahid Ahmed      4   \n",
       "37           🥰                              Stanslous Mutie      5   \n",
       "75          ok                                 rian bunkers      1   \n",
       "...        ...                                          ...    ...   \n",
       "120611     Wow                                  Steve Maple      4   \n",
       "120630       💖                           YTr. Gaurav Thorat      5   \n",
       "120640     Fun                             David Viramontes      5   \n",
       "120799       👌                             Deeptha Vakkayil      5   \n",
       "120858     Gud                               Derrick Simien      5   \n",
       "\n",
       "                                                    appId  \n",
       "2       com.rvappstudios.abc_kids_toddler_tracing_phonics  \n",
       "15      com.rvappstudios.abc_kids_toddler_tracing_phonics  \n",
       "20      com.rvappstudios.abc_kids_toddler_tracing_phonics  \n",
       "37      com.rvappstudios.abc_kids_toddler_tracing_phonics  \n",
       "75      com.rvappstudios.abc_kids_toddler_tracing_phonics  \n",
       "...                                                   ...  \n",
       "120611         com.squareenixmontreal.hitmansniperandroid  \n",
       "120630         com.squareenixmontreal.hitmansniperandroid  \n",
       "120640         com.squareenixmontreal.hitmansniperandroid  \n",
       "120799         com.squareenixmontreal.hitmansniperandroid  \n",
       "120858         com.squareenixmontreal.hitmansniperandroid  \n",
       "\n",
       "[3002 rows x 4 columns]"
      ]
     },
     "execution_count": 35,
     "metadata": {},
     "output_type": "execute_result"
    }
   ],
   "source": [
    "df_reviews[df_reviews['content'].str.len() <= 3][['content','userName','score','appId']]"
   ]
  },
  {
   "cell_type": "markdown",
   "metadata": {},
   "source": [
    "#### Word Tokenization\n",
    "- Word tokenization divides text into individual words. "
   ]
  },
  {
   "cell_type": "code",
   "execution_count": 36,
   "metadata": {},
   "outputs": [
    {
     "name": "stderr",
     "output_type": "stream",
     "text": [
      "[nltk_data] Downloading package punkt to\n",
      "[nltk_data]     C:\\Users\\Mund\\AppData\\Roaming\\nltk_data...\n",
      "[nltk_data]   Package punkt is already up-to-date!\n"
     ]
    }
   ],
   "source": [
    "from nltk.tokenize import word_tokenize\n",
    "nltk.download('punkt')\n",
    "\n",
    "word_tokenize_series = df_reviews['content'].fillna('').apply(word_tokenize)"
   ]
  },
  {
   "cell_type": "code",
   "execution_count": 37,
   "metadata": {},
   "outputs": [
    {
     "data": {
      "text/plain": [
       "0                                           [AaB, bCc]\n",
       "1    [i, love, it, and, its, good, for, my, daughte...\n",
       "2                                                [amp]\n",
       "3    [I, would, be, proud, to, do, this, I, wished,...\n",
       "4                                               [free]\n",
       "Name: content, dtype: object"
      ]
     },
     "execution_count": 37,
     "metadata": {},
     "output_type": "execute_result"
    }
   ],
   "source": [
    "word_tokenize_series[:5]"
   ]
  },
  {
   "cell_type": "code",
   "execution_count": 38,
   "metadata": {},
   "outputs": [
    {
     "data": {
      "text/plain": [
       "['i',\n",
       " 'love',\n",
       " 'it',\n",
       " 'and',\n",
       " 'its',\n",
       " 'good',\n",
       " 'for',\n",
       " 'my',\n",
       " 'daughter',\n",
       " 'she',\n",
       " 'really',\n",
       " 'enjoys',\n",
       " 'it']"
      ]
     },
     "execution_count": 38,
     "metadata": {},
     "output_type": "execute_result"
    }
   ],
   "source": [
    "word_tokenize_series[1]"
   ]
  },
  {
   "cell_type": "markdown",
   "metadata": {},
   "source": [
    "We will apply this technique into our \"Content\" Feature."
   ]
  },
  {
   "cell_type": "markdown",
   "metadata": {},
   "source": [
    "#### Spacy's Lemmatization with Word Tokenization"
   ]
  },
  {
   "cell_type": "code",
   "execution_count": null,
   "metadata": {},
   "outputs": [
    {
     "data": {
      "text/plain": [
       "0                                           [AaB, bcc]\n",
       "1    [I, love, it, and, its, good, for, my, daughte...\n",
       "2                                                [amp]\n",
       "3    [I, would, be, proud, to, do, this, I, wish, I...\n",
       "4                                               [free]\n",
       "5                         [be, a, good, app, for, kid]\n",
       "Name: content, dtype: object"
      ]
     },
     "execution_count": 62,
     "metadata": {},
     "output_type": "execute_result"
    }
   ],
   "source": [
    "import spacy\n",
    "nlp = spacy.load('en_core_web_sm')\n",
    "\n",
    "\n",
    "df_reviews[['content']][:6]['content'].apply(lambda x: [token.lemma_ for token in nlp(x)])"
   ]
  },
  {
   "cell_type": "code",
   "execution_count": 61,
   "metadata": {},
   "outputs": [
    {
     "data": {
      "text/plain": [
       "'is a good app for kids'"
      ]
     },
     "execution_count": 61,
     "metadata": {},
     "output_type": "execute_result"
    }
   ],
   "source": [
    "df_reviews['content'].values[5]"
   ]
  },
  {
   "cell_type": "markdown",
   "metadata": {},
   "source": [
    "#### Reviews highlighting Entities such as \"Age\", \"Location\" and etc."
   ]
  },
  {
   "cell_type": "code",
   "execution_count": 104,
   "metadata": {},
   "outputs": [
    {
     "name": "stdout",
     "output_type": "stream",
     "text": [
      "french\n",
      "2 year old\n"
     ]
    }
   ],
   "source": [
    "text =  \"Best app maker for kids! On top of that they have french language option NO ADS! Thank u very much developer/s update: excellent app for 2 year old because it's very easy, I have the difficult version but I prefer this one\"\n",
    "doc = nlp(text)\n",
    "\n",
    "# Custom entity recognition\n",
    "\n",
    "for ent in doc.ents:\n",
    "    print(ent)\n"
   ]
  },
  {
   "cell_type": "code",
   "execution_count": null,
   "metadata": {},
   "outputs": [],
   "source": [
    "# New Preprocessing\n",
    "import subprocess\n",
    "\n",
    "def lemmatization(document, model):\n",
    "    return \" \".join([token.lemma_ for token in model(document)])\n",
    "\n",
    "def named_entities(document, model):\n",
    "    return [ent.text for ent in model(document).ents]\n",
    "\n",
    "def remove_stop_words(tokens_list, stop_words):\n",
    "    return [token for token in tokens_list if token not in stop_words]\n",
    "\n",
    "def remove_one_character_or_letter_tokens(tokens_list):\n",
    "    return [token for token in tokens_list if token.isalpha() and not (len(token) >= 2 and len(set(token)) == 1)]\n",
    "\n",
    "def preprocess_dataframe(dataframe, text_column):\n",
    "    # nltk, spacy required resources\n",
    "    required_resources = ['stopwords', 'punkt']\n",
    "    for resource in required_resources:\n",
    "        try:\n",
    "            nltk.data.find(f\"corpora/{resource}\")\n",
    "        except LookupError:\n",
    "            nltk.download(resource)\n",
    "    try:\n",
    "        nlp_spacy = spacy.load('en_core_web_sm')\n",
    "    except OSError:\n",
    "        print(\"spaCy model 'en_core_web_sm' not found. Downloading now...\")\n",
    "        subprocess.run(['python', '-m', 'spacy', 'download', 'en_core_web_sm'], check=True)\n",
    "        nlp_spacy = spacy.load('en_core_web_sm')\n",
    "\n",
    "    data = dataframe.copy()\n",
    "    row_docs = data[text_column].fillna('').apply(lambda x: lemmatization(x, nlp_spacy))\n",
    "    data['reviews_NER'] = row_docs.apply(lambda x: named_entities(x, nlp_spacy))\n",
    "    row_docs = row_docs.str.lower().apply(word_tokenize)\n",
    "\n",
    "    stop_words = set(stopwords.words('english'))\n",
    "    row_docs = row_docs.apply(lambda x: remove_stop_words(x, stop_words))\n",
    "    row_docs = row_docs.apply(remove_one_character_or_letter_tokens)\n",
    "\n",
    "    data['processed_reviews'] = row_docs + data['reviews_NER']\n",
    "    return data"
   ]
  },
  {
   "cell_type": "code",
   "execution_count": 152,
   "metadata": {},
   "outputs": [
    {
     "name": "stderr",
     "output_type": "stream",
     "text": [
      "[nltk_data] Downloading package punkt to\n",
      "[nltk_data]     C:\\Users\\Mund\\AppData\\Roaming\\nltk_data...\n",
      "[nltk_data]   Package punkt is already up-to-date!\n"
     ]
    },
    {
     "data": {
      "text/html": [
       "<div>\n",
       "<style scoped>\n",
       "    .dataframe tbody tr th:only-of-type {\n",
       "        vertical-align: middle;\n",
       "    }\n",
       "\n",
       "    .dataframe tbody tr th {\n",
       "        vertical-align: top;\n",
       "    }\n",
       "\n",
       "    .dataframe thead th {\n",
       "        text-align: right;\n",
       "    }\n",
       "</style>\n",
       "<table border=\"1\" class=\"dataframe\">\n",
       "  <thead>\n",
       "    <tr style=\"text-align: right;\">\n",
       "      <th></th>\n",
       "      <th>reviews_NER</th>\n",
       "      <th>processed_reviews</th>\n",
       "    </tr>\n",
       "  </thead>\n",
       "  <tbody>\n",
       "    <tr>\n",
       "      <th>0</th>\n",
       "      <td>[]</td>\n",
       "      <td>[aab, bcc]</td>\n",
       "    </tr>\n",
       "    <tr>\n",
       "      <th>1</th>\n",
       "      <td>[]</td>\n",
       "      <td>[love, good, daughter, really, enjoy]</td>\n",
       "    </tr>\n",
       "    <tr>\n",
       "      <th>2</th>\n",
       "      <td>[]</td>\n",
       "      <td>[amp]</td>\n",
       "    </tr>\n",
       "    <tr>\n",
       "      <th>3</th>\n",
       "      <td>[]</td>\n",
       "      <td>[would, proud, wish, would, find, early, tempo...</td>\n",
       "    </tr>\n",
       "    <tr>\n",
       "      <th>4</th>\n",
       "      <td>[]</td>\n",
       "      <td>[free]</td>\n",
       "    </tr>\n",
       "    <tr>\n",
       "      <th>5</th>\n",
       "      <td>[]</td>\n",
       "      <td>[good, app, kid]</td>\n",
       "    </tr>\n",
       "    <tr>\n",
       "      <th>6</th>\n",
       "      <td>[]</td>\n",
       "      <td>[ok, use, long, tho]</td>\n",
       "    </tr>\n",
       "    <tr>\n",
       "      <th>7</th>\n",
       "      <td>[one, just two year old]</td>\n",
       "      <td>[love, app, perfect, approach, get, little, on...</td>\n",
       "    </tr>\n",
       "    <tr>\n",
       "      <th>8</th>\n",
       "      <td>[]</td>\n",
       "      <td>[good, kid]</td>\n",
       "    </tr>\n",
       "    <tr>\n",
       "      <th>9</th>\n",
       "      <td>[5]</td>\n",
       "      <td>[grandson, absolutely, love, app, want, stop, 5]</td>\n",
       "    </tr>\n",
       "  </tbody>\n",
       "</table>\n",
       "</div>"
      ],
      "text/plain": [
       "                reviews_NER                                  processed_reviews\n",
       "0                        []                                         [aab, bcc]\n",
       "1                        []              [love, good, daughter, really, enjoy]\n",
       "2                        []                                              [amp]\n",
       "3                        []  [would, proud, wish, would, find, early, tempo...\n",
       "4                        []                                             [free]\n",
       "5                        []                                   [good, app, kid]\n",
       "6                        []                               [ok, use, long, tho]\n",
       "7  [one, just two year old]  [love, app, perfect, approach, get, little, on...\n",
       "8                        []                                        [good, kid]\n",
       "9                       [5]   [grandson, absolutely, love, app, want, stop, 5]"
      ]
     },
     "execution_count": 152,
     "metadata": {},
     "output_type": "execute_result"
    }
   ],
   "source": [
    "preprocess_dataframe(df_reviews[:10], 'content')[['reviews_NER','processed_reviews']]"
   ]
  },
  {
   "cell_type": "markdown",
   "metadata": {},
   "source": [
    "#### Premilinary Preprocessing Function\n",
    "---\n",
    "Steps:\n",
    "1. Filter Influential Reviews/Comments. \n",
    "2. Apply Lemmatization\n",
    "3. Find Named Entities on Lemmatized Text.\n",
    "4. Apply Word Tokenization\n",
    "5. Removal of Stop words\n",
    "6. Clean tokens with filtering out alphabet characters, single-length character, words with only one character.\n",
    "7. Combine Preprocessed tokens and NER output."
   ]
  },
  {
   "cell_type": "code",
   "execution_count": 156,
   "metadata": {},
   "outputs": [
    {
     "data": {
      "text/html": [
       "<div>\n",
       "<style scoped>\n",
       "    .dataframe tbody tr th:only-of-type {\n",
       "        vertical-align: middle;\n",
       "    }\n",
       "\n",
       "    .dataframe tbody tr th {\n",
       "        vertical-align: top;\n",
       "    }\n",
       "\n",
       "    .dataframe thead th {\n",
       "        text-align: right;\n",
       "    }\n",
       "</style>\n",
       "<table border=\"1\" class=\"dataframe\">\n",
       "  <thead>\n",
       "    <tr style=\"text-align: right;\">\n",
       "      <th></th>\n",
       "      <th>content</th>\n",
       "      <th>reviewId</th>\n",
       "      <th>appId</th>\n",
       "      <th>score</th>\n",
       "      <th>thumbsUpCount</th>\n",
       "      <th>replyContent</th>\n",
       "    </tr>\n",
       "  </thead>\n",
       "  <tbody>\n",
       "    <tr>\n",
       "      <th>11</th>\n",
       "      <td>Wrong pronunciation of punjabi alphabets. Kind...</td>\n",
       "      <td>3718e0b9-3994-42aa-b07d-268e2fd18c98</td>\n",
       "      <td>com.rvappstudios.abc_kids_toddler_tracing_phonics</td>\n",
       "      <td>1</td>\n",
       "      <td>0</td>\n",
       "      <td>We've forwarded your feedback to our developer...</td>\n",
       "    </tr>\n",
       "    <tr>\n",
       "      <th>16</th>\n",
       "      <td>My daughter loves this app and has learned so ...</td>\n",
       "      <td>7f0129ac-adbc-4daa-93bc-e757de8eaca4</td>\n",
       "      <td>com.rvappstudios.abc_kids_toddler_tracing_phonics</td>\n",
       "      <td>5</td>\n",
       "      <td>14</td>\n",
       "      <td>None</td>\n",
       "    </tr>\n",
       "    <tr>\n",
       "      <th>21</th>\n",
       "      <td>For the first time ever, my 6 old autistic son...</td>\n",
       "      <td>f9139c1f-08db-4802-a6c2-69622855ebf0</td>\n",
       "      <td>com.rvappstudios.abc_kids_toddler_tracing_phonics</td>\n",
       "      <td>5</td>\n",
       "      <td>27</td>\n",
       "      <td>Thank you for sharing your review, it's review...</td>\n",
       "    </tr>\n",
       "  </tbody>\n",
       "</table>\n",
       "</div>"
      ],
      "text/plain": [
       "                                              content  \\\n",
       "11  Wrong pronunciation of punjabi alphabets. Kind...   \n",
       "16  My daughter loves this app and has learned so ...   \n",
       "21  For the first time ever, my 6 old autistic son...   \n",
       "\n",
       "                                reviewId  \\\n",
       "11  3718e0b9-3994-42aa-b07d-268e2fd18c98   \n",
       "16  7f0129ac-adbc-4daa-93bc-e757de8eaca4   \n",
       "21  f9139c1f-08db-4802-a6c2-69622855ebf0   \n",
       "\n",
       "                                                appId  score  thumbsUpCount  \\\n",
       "11  com.rvappstudios.abc_kids_toddler_tracing_phonics      1              0   \n",
       "16  com.rvappstudios.abc_kids_toddler_tracing_phonics      5             14   \n",
       "21  com.rvappstudios.abc_kids_toddler_tracing_phonics      5             27   \n",
       "\n",
       "                                         replyContent  \n",
       "11  We've forwarded your feedback to our developer...  \n",
       "16                                               None  \n",
       "21  Thank you for sharing your review, it's review...  "
      ]
     },
     "execution_count": 156,
     "metadata": {},
     "output_type": "execute_result"
    }
   ],
   "source": [
    "filtered_df = df_reviews.loc[((df_reviews['content'].fillna('').str.split().apply(len) >= 3) & (df_reviews['thumbsUpCount'] >= 10)) | ((df_reviews['content'].fillna('').str.split().apply(len) >= 6) & (pd.notnull(df_reviews['replyContent']))),\n",
    "                             ['content','reviewId','appId','score','thumbsUpCount','replyContent']]\n",
    "filtered_df.head(3)"
   ]
  },
  {
   "cell_type": "code",
   "execution_count": 157,
   "metadata": {},
   "outputs": [
    {
     "name": "stderr",
     "output_type": "stream",
     "text": [
      "[nltk_data] Downloading package punkt to\n",
      "[nltk_data]     C:\\Users\\Mund\\AppData\\Roaming\\nltk_data...\n",
      "[nltk_data]   Package punkt is already up-to-date!\n"
     ]
    }
   ],
   "source": [
    "review_col = preprocess_dataframe(filtered_df, 'content')"
   ]
  },
  {
   "cell_type": "markdown",
   "metadata": {},
   "source": [
    "Applying Bag-Of-Words"
   ]
  },
  {
   "cell_type": "code",
   "execution_count": 158,
   "metadata": {},
   "outputs": [
    {
     "data": {
      "text/html": [
       "<div>\n",
       "<style scoped>\n",
       "    .dataframe tbody tr th:only-of-type {\n",
       "        vertical-align: middle;\n",
       "    }\n",
       "\n",
       "    .dataframe tbody tr th {\n",
       "        vertical-align: top;\n",
       "    }\n",
       "\n",
       "    .dataframe thead th {\n",
       "        text-align: right;\n",
       "    }\n",
       "</style>\n",
       "<table border=\"1\" class=\"dataframe\">\n",
       "  <thead>\n",
       "    <tr style=\"text-align: right;\">\n",
       "      <th></th>\n",
       "      <th>content</th>\n",
       "      <th>reviewId</th>\n",
       "      <th>appId</th>\n",
       "      <th>score</th>\n",
       "      <th>thumbsUpCount</th>\n",
       "      <th>replyContent</th>\n",
       "      <th>reviews_NER</th>\n",
       "      <th>processed_reviews</th>\n",
       "    </tr>\n",
       "  </thead>\n",
       "  <tbody>\n",
       "    <tr>\n",
       "      <th>11</th>\n",
       "      <td>Wrong pronunciation of punjabi alphabets. Kind...</td>\n",
       "      <td>3718e0b9-3994-42aa-b07d-268e2fd18c98</td>\n",
       "      <td>com.rvappstudios.abc_kids_toddler_tracing_phonics</td>\n",
       "      <td>1</td>\n",
       "      <td>0</td>\n",
       "      <td>We've forwarded your feedback to our developer...</td>\n",
       "      <td>[]</td>\n",
       "      <td>[wrong, pronunciation, punjabi, alphabet, kind...</td>\n",
       "    </tr>\n",
       "    <tr>\n",
       "      <th>16</th>\n",
       "      <td>My daughter loves this app and has learned so ...</td>\n",
       "      <td>7f0129ac-adbc-4daa-93bc-e757de8eaca4</td>\n",
       "      <td>com.rvappstudios.abc_kids_toddler_tracing_phonics</td>\n",
       "      <td>5</td>\n",
       "      <td>14</td>\n",
       "      <td>None</td>\n",
       "      <td>[]</td>\n",
       "      <td>[daughter, love, app, learn, much, recognize, ...</td>\n",
       "    </tr>\n",
       "    <tr>\n",
       "      <th>21</th>\n",
       "      <td>For the first time ever, my 6 old autistic son...</td>\n",
       "      <td>f9139c1f-08db-4802-a6c2-69622855ebf0</td>\n",
       "      <td>com.rvappstudios.abc_kids_toddler_tracing_phonics</td>\n",
       "      <td>5</td>\n",
       "      <td>27</td>\n",
       "      <td>Thank you for sharing your review, it's review...</td>\n",
       "      <td>[first, 6, God]</td>\n",
       "      <td>[first, time, ever, old, autistic, son, look, ...</td>\n",
       "    </tr>\n",
       "    <tr>\n",
       "      <th>64</th>\n",
       "      <td>Love this game! I love this letter tracing gam...</td>\n",
       "      <td>676c0171-2ad4-46a3-b8cb-6b1bd597a37b</td>\n",
       "      <td>com.rvappstudios.abc_kids_toddler_tracing_phonics</td>\n",
       "      <td>5</td>\n",
       "      <td>128</td>\n",
       "      <td>None</td>\n",
       "      <td>[]</td>\n",
       "      <td>[love, game, love, letter, trace, game, beauti...</td>\n",
       "    </tr>\n",
       "    <tr>\n",
       "      <th>81</th>\n",
       "      <td>For a Afrikaans speaking person. Thank you so ...</td>\n",
       "      <td>a7ac0397-aec6-40c8-b74d-74052ec8b68e</td>\n",
       "      <td>com.rvappstudios.abc_kids_toddler_tracing_phonics</td>\n",
       "      <td>5</td>\n",
       "      <td>89</td>\n",
       "      <td>So happy to read the app.has helped. The revie...</td>\n",
       "      <td>[Afrikaans, afrikaans, 2 year old]</td>\n",
       "      <td>[afrikaans, speak, person, thank, much, add, l...</td>\n",
       "    </tr>\n",
       "  </tbody>\n",
       "</table>\n",
       "</div>"
      ],
      "text/plain": [
       "                                              content  \\\n",
       "11  Wrong pronunciation of punjabi alphabets. Kind...   \n",
       "16  My daughter loves this app and has learned so ...   \n",
       "21  For the first time ever, my 6 old autistic son...   \n",
       "64  Love this game! I love this letter tracing gam...   \n",
       "81  For a Afrikaans speaking person. Thank you so ...   \n",
       "\n",
       "                                reviewId  \\\n",
       "11  3718e0b9-3994-42aa-b07d-268e2fd18c98   \n",
       "16  7f0129ac-adbc-4daa-93bc-e757de8eaca4   \n",
       "21  f9139c1f-08db-4802-a6c2-69622855ebf0   \n",
       "64  676c0171-2ad4-46a3-b8cb-6b1bd597a37b   \n",
       "81  a7ac0397-aec6-40c8-b74d-74052ec8b68e   \n",
       "\n",
       "                                                appId  score  thumbsUpCount  \\\n",
       "11  com.rvappstudios.abc_kids_toddler_tracing_phonics      1              0   \n",
       "16  com.rvappstudios.abc_kids_toddler_tracing_phonics      5             14   \n",
       "21  com.rvappstudios.abc_kids_toddler_tracing_phonics      5             27   \n",
       "64  com.rvappstudios.abc_kids_toddler_tracing_phonics      5            128   \n",
       "81  com.rvappstudios.abc_kids_toddler_tracing_phonics      5             89   \n",
       "\n",
       "                                         replyContent  \\\n",
       "11  We've forwarded your feedback to our developer...   \n",
       "16                                               None   \n",
       "21  Thank you for sharing your review, it's review...   \n",
       "64                                               None   \n",
       "81  So happy to read the app.has helped. The revie...   \n",
       "\n",
       "                           reviews_NER  \\\n",
       "11                                  []   \n",
       "16                                  []   \n",
       "21                     [first, 6, God]   \n",
       "64                                  []   \n",
       "81  [Afrikaans, afrikaans, 2 year old]   \n",
       "\n",
       "                                    processed_reviews  \n",
       "11  [wrong, pronunciation, punjabi, alphabet, kind...  \n",
       "16  [daughter, love, app, learn, much, recognize, ...  \n",
       "21  [first, time, ever, old, autistic, son, look, ...  \n",
       "64  [love, game, love, letter, trace, game, beauti...  \n",
       "81  [afrikaans, speak, person, thank, much, add, l...  "
      ]
     },
     "execution_count": 158,
     "metadata": {},
     "output_type": "execute_result"
    }
   ],
   "source": [
    "review_col[:5]"
   ]
  },
  {
   "cell_type": "code",
   "execution_count": 160,
   "metadata": {},
   "outputs": [
    {
     "data": {
      "text/plain": [
       "[('game', 20209),\n",
       " ('play', 7363),\n",
       " ('app', 4955),\n",
       " ('love', 4800),\n",
       " ('good', 4496),\n",
       " ('get', 4303),\n",
       " ('like', 3545),\n",
       " ('year', 3358),\n",
       " ('one', 3033),\n",
       " ('time', 2952),\n",
       " ('fun', 2670),\n",
       " ('make', 2378),\n",
       " ('great', 2346),\n",
       " ('kid', 2339),\n",
       " ('old', 2292),\n",
       " ('really', 2187),\n",
       " ('update', 1864),\n",
       " ('much', 1748),\n",
       " ('go', 1716),\n",
       " ('ad', 1707),\n",
       " ('learn', 1704),\n",
       " ('even', 1681),\n",
       " ('would', 1657),\n",
       " ('use', 1646),\n",
       " ('keep', 1618),\n",
       " ('pay', 1543),\n",
       " ('need', 1515),\n",
       " ('please', 1497),\n",
       " ('give', 1481),\n",
       " ('work', 1465),\n",
       " ('try', 1455),\n",
       " ('thank', 1408),\n",
       " ('well', 1395),\n",
       " ('level', 1386),\n",
       " ('want', 1376),\n",
       " ('money', 1343),\n",
       " ('day', 1330),\n",
       " ('fix', 1328),\n",
       " ('enjoy', 1306),\n",
       " ('still', 1288),\n",
       " ('new', 1286),\n",
       " ('download', 1254),\n",
       " ('thing', 1254),\n",
       " ('energy', 1252),\n",
       " ('free', 1229),\n",
       " ('also', 1214),\n",
       " ('star', 1204),\n",
       " ('help', 1202),\n",
       " ('first', 1172),\n",
       " ('take', 1134)]"
      ]
     },
     "execution_count": 160,
     "metadata": {},
     "output_type": "execute_result"
    }
   ],
   "source": [
    "Counter(pd.Series([' '.join(word)for word in review_col['processed_reviews']]).str.cat(sep = ' ').split()).most_common(50)\n"
   ]
  },
  {
   "cell_type": "markdown",
   "metadata": {},
   "source": [
    "Now, the words seems to be more clearer."
   ]
  }
 ],
 "metadata": {
  "kernelspec": {
   "display_name": "nlp_env",
   "language": "python",
   "name": "python3"
  },
  "language_info": {
   "codemirror_mode": {
    "name": "ipython",
    "version": 3
   },
   "file_extension": ".py",
   "mimetype": "text/x-python",
   "name": "python",
   "nbconvert_exporter": "python",
   "pygments_lexer": "ipython3",
   "version": "3.11.10"
  }
 },
 "nbformat": 4,
 "nbformat_minor": 2
}
